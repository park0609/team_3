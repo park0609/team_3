{
 "cells": [
  {
   "cell_type": "code",
   "execution_count": 5,
   "id": "f3646b85-d300-4fb9-b44d-0d5da1baaf4f",
   "metadata": {},
   "outputs": [
    {
     "name": "stdin",
     "output_type": "stream",
     "text": [
      "단어를 입력하세요 모니터\n"
     ]
    },
    {
     "name": "stdout",
     "output_type": "stream",
     "text": [
      "거꾸로 하면 다른 단어이군요\n"
     ]
    }
   ],
   "source": [
    "aa = input(\"단어를 입력하세요\")\n",
    "name = list(aa)\n",
    "a= name[0]\n",
    "b= name[2]\n",
    "if a==b :\n",
    "    print(\"거꾸로 해도 같습니다\")\n",
    "else :\n",
    "    print(\"거꾸로 하면 다른 단어이군요\")"
   ]
  },
  {
   "cell_type": "code",
   "execution_count": null,
   "id": "1947d78d-8fed-461e-b7ab-0184431a4365",
   "metadata": {},
   "outputs": [],
   "source": []
  }
 ],
 "metadata": {
  "kernelspec": {
   "display_name": "Python 3 (ipykernel)",
   "language": "python",
   "name": "python3"
  },
  "language_info": {
   "codemirror_mode": {
    "name": "ipython",
    "version": 3
   },
   "file_extension": ".py",
   "mimetype": "text/x-python",
   "name": "python",
   "nbconvert_exporter": "python",
   "pygments_lexer": "ipython3",
   "version": "3.13.1"
  }
 },
 "nbformat": 4,
 "nbformat_minor": 5
}
