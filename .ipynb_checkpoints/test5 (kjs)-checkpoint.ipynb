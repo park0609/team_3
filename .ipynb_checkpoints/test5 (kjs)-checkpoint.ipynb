{
 "cells": [
  {
   "cell_type": "code",
   "execution_count": null,
   "id": "4f25d4e1-f4fa-435e-884f-75d2a21e9878",
   "metadata": {},
   "outputs": [],
   "source": [
    "#5\n",
    "영어 소문자로 문장을 입력받으면 매 첫글자만 대문자로 변경되게 하라. 문장 마지막은 마침표."
   ]
  },
  {
   "cell_type": "code",
   "execution_count": 82,
   "id": "39e74378-2ef0-400f-9b5f-9a75198681d1",
   "metadata": {},
   "outputs": [
    {
     "name": "stdin",
     "output_type": "stream",
     "text": [
      "영어를 입력해 주세요 fsd qf qgat\n"
     ]
    },
    {
     "name": "stdout",
     "output_type": "stream",
     "text": [
      "['fsd', 'qf', 'qgat']\n"
     ]
    }
   ],
   "source": [
    "a = input('영어를 입력해 주세요')\n",
    "result = a\n",
    "b = print(result.split())\n",
    "c = []\n",
    "d = []\n",
    "\n",
    "\n",
    "\n",
    "\n",
    "\n"
   ]
  },
  {
   "cell_type": "code",
   "execution_count": 92,
   "id": "5880e5dc-3500-455b-81b6-118e9a30128e",
   "metadata": {},
   "outputs": [
    {
     "name": "stdin",
     "output_type": "stream",
     "text": [
      "영어를 입력해 주세요 dsfsd sdfsdf\n"
     ]
    },
    {
     "name": "stdout",
     "output_type": "stream",
     "text": [
      "['dsfsd', 'sdfsdf']\n",
      "DSFSD SDFSDF\n"
     ]
    }
   ],
   "source": [
    "if __name__ == '__main__':\n",
    "    a = input('영어를 입력해 주세요')\n",
    "    result = a\n",
    "    print(list(result.split()))\n",
    "    result2 = result[0:].upper()\n",
    "    print(result2)    "
   ]
  },
  {
   "cell_type": "code",
   "execution_count": 89,
   "id": "554e8759-c6f5-45f1-8468-151c69bfb40c",
   "metadata": {},
   "outputs": [
    {
     "name": "stdin",
     "output_type": "stream",
     "text": [
      " sdfdsg qgsgfs\n"
     ]
    },
    {
     "name": "stdout",
     "output_type": "stream",
     "text": [
      "SdfdSg Qgsgfs\n"
     ]
    }
   ],
   "source": [
    "text = input()\n",
    "a = text.replace(\".\",\"\")\n",
    "b = a.split()\n",
    "d = []\n",
    "h = []\n",
    "for n in range(0,len(b)):\n",
    "    f = b[n]\n",
    "    c = b[n][0:1]\n",
    "    d = c.upper()\n",
    "    e = f.replace(str(b[n][0]),d[0])\n",
    "    h.append(e)\n",
    "    g = \" \".join(h)\n",
    "print(g)"
   ]
  },
  {
   "cell_type": "code",
   "execution_count": null,
   "id": "6bc44f21-108a-44e0-a38e-dfc83a0cc6cf",
   "metadata": {},
   "outputs": [],
   "source": [
    "print(c[0],c[3])"
   ]
  }
 ],
 "metadata": {
  "kernelspec": {
   "display_name": "Python 3 (ipykernel)",
   "language": "python",
   "name": "python3"
  },
  "language_info": {
   "codemirror_mode": {
    "name": "ipython",
    "version": 3
   },
   "file_extension": ".py",
   "mimetype": "text/x-python",
   "name": "python",
   "nbconvert_exporter": "python",
   "pygments_lexer": "ipython3",
   "version": "3.13.1"
  }
 },
 "nbformat": 4,
 "nbformat_minor": 5
}
