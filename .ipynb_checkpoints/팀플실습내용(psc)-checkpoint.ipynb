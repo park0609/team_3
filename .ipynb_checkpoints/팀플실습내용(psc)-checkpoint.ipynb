{
 "cells": [
  {
   "cell_type": "code",
   "execution_count": 8,
   "id": "b0a1bfab-28d5-4b09-9150-73ed5cf283f3",
   "metadata": {},
   "outputs": [],
   "source": [
    "#함수를 이용한 코드\n",
    "def same_word(word):\n",
    "    word2 = list(word)\n",
    "    a = word2[0]\n",
    "    b = word2[-1]\n",
    "    if a == b:\n",
    "        return \"거꾸로 해도 같은 단어네요!\"\n",
    "    else:\n",
    "        return \"그냥 단어네요!\""
   ]
  },
  {
   "cell_type": "code",
   "execution_count": 9,
   "id": "024f59b2-8a8f-415f-96c8-9bdaea3c3072",
   "metadata": {},
   "outputs": [
    {
     "data": {
      "text/plain": [
       "'거꾸로 해도 같은 단어네요!'"
      ]
     },
     "execution_count": 9,
     "metadata": {},
     "output_type": "execute_result"
    }
   ],
   "source": [
    "same_word(\"우영우\")"
   ]
  },
  {
   "cell_type": "code",
   "execution_count": 10,
   "id": "7a3361c7-81ef-4d8f-98ed-0493eb952266",
   "metadata": {},
   "outputs": [
    {
     "name": "stdin",
     "output_type": "stream",
     "text": [
      "단어를 작성해 주세요! 우영우\n"
     ]
    },
    {
     "name": "stdout",
     "output_type": "stream",
     "text": [
      "거꾸로 해도 같은 단어네요!\n"
     ]
    }
   ],
   "source": [
    "# input을 이용한 코드\n",
    "word = input(\"단어를 작성해 주세요!\")\n",
    "word2 = list(word)\n",
    "a = word2[0]\n",
    "b = word2[-1]\n",
    "if a == b:\n",
    "    print(\"거꾸로 해도 같은 단어네요!\")\n",
    "else:\n",
    "    print(\"그냥 단어네요!\")"
   ]
  },
  {
   "cell_type": "code",
   "execution_count": null,
   "id": "f4ad8866-fc85-44f0-963b-6fc2b56d7e21",
   "metadata": {},
   "outputs": [],
   "source": []
  }
 ],
 "metadata": {
  "kernelspec": {
   "display_name": "Python 3 (ipykernel)",
   "language": "python",
   "name": "python3"
  },
  "language_info": {
   "codemirror_mode": {
    "name": "ipython",
    "version": 3
   },
   "file_extension": ".py",
   "mimetype": "text/x-python",
   "name": "python",
   "nbconvert_exporter": "python",
   "pygments_lexer": "ipython3",
   "version": "3.13.1"
  }
 },
 "nbformat": 4,
 "nbformat_minor": 5
}
