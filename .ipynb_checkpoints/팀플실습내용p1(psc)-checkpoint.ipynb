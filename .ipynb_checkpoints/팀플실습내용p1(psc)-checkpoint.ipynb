{
 "cells": [
  {
   "cell_type": "code",
   "execution_count": null,
   "id": "b0a1bfab-28d5-4b09-9150-73ed5cf283f3",
   "metadata": {},
   "outputs": [],
   "source": [
    "#함수를 이용한 코드 psc\n",
    "def same_word(word):\n",
    "    word2 = list(word)\n",
    "    a = word2[0]\n",
    "    b = word2[-1]\n",
    "    if a == b:\n",
    "        return \"거꾸로 해도 같은 단어네요!\"\n",
    "    else:\n",
    "        return \"그냥 단어네요!\""
   ]
  },
  {
   "cell_type": "code",
   "execution_count": null,
   "id": "024f59b2-8a8f-415f-96c8-9bdaea3c3072",
   "metadata": {},
   "outputs": [],
   "source": [
    "same_word(\"우영우\")"
   ]
  },
  {
   "cell_type": "code",
   "execution_count": null,
   "id": "36a814c8-8164-4d5d-a84f-2525d63b32ab",
   "metadata": {},
   "outputs": [],
   "source": [
    "#함수를 이용한 코드 psc(수정)\n",
    "def same_word(word):\n",
    "    word2 = list(word)\n",
    "    a = word2[0]\n",
    "    b = word2[-1]\n",
    "    if a == b:\n",
    "        return \"거꾸로 해도 같은 단어네요!\"\n",
    "    else:\n",
    "        return \"그냥 단어네요!\""
   ]
  },
  {
   "cell_type": "code",
   "execution_count": null,
   "id": "7a3361c7-81ef-4d8f-98ed-0493eb952266",
   "metadata": {},
   "outputs": [],
   "source": [
    "# input을 이용한 코드\n",
    "word = input(\"단어를 작성해 주세요!\")\n",
    "word2 = list(word)\n",
    "a = word2[0]\n",
    "b = word2[-1]\n",
    "if a == b:\n",
    "    print(\"거꾸로 해도 같은 단어네요!\")\n",
    "else:\n",
    "    print(\"그냥 단어네요!\")"
   ]
  },
  {
   "cell_type": "code",
   "execution_count": 2,
   "id": "f4ad8866-fc85-44f0-963b-6fc2b56d7e21",
   "metadata": {},
   "outputs": [
    {
     "name": "stdin",
     "output_type": "stream",
     "text": [
      "단어를 입력하세요 이제제이\n"
     ]
    },
    {
     "data": {
      "text/plain": [
       "'이제제이는 거꾸로 해도 같은 단어가 아닙니다.'"
      ]
     },
     "execution_count": 2,
     "metadata": {},
     "output_type": "execute_result"
    }
   ],
   "source": [
    "def youngu():\n",
    "    text = input(\"단어를 입력하세요\")\n",
    "    if text[0] == text[2]:\n",
    "        return (f\"{text}는 거꾸로 해도 같은 단어입니다.\")\n",
    "    else:\n",
    "        return (f\"{text}는 거꾸로 해도 같은 단어가 아닙니다.\")\n",
    "youngu()"
   ]
  },
  {
   "cell_type": "code",
   "execution_count": null,
   "id": "b9310e06-2846-4762-b612-75f4c12b1eea",
   "metadata": {},
   "outputs": [],
   "source": [
    "def word():\n",
    "    c = []\n",
    "    d = []\n",
    "    word = input(\"입력해주세요!\")\n",
    "    while True:\n",
    "        word2 = list(word)\n",
    "        num = 0\n",
    "        num = num + 0\n",
    "        b = word2.index(num) + 1\n",
    "        if b == (b%2 == 0):\n",
    "            c.append(word[b])\n",
    "        else:\n",
    "            d.append(word[b])\n",
    "    return print(c),\\n,print(d)"
   ]
  },
  {
   "cell_type": "code",
   "execution_count": 25,
   "id": "d94dce18-eccf-4968-b50a-76b6552de627",
   "metadata": {},
   "outputs": [
    {
     "name": "stdin",
     "output_type": "stream",
     "text": [
      "입력해주세요! 가나다\n"
     ]
    },
    {
     "ename": "IndexError",
     "evalue": "string index out of range",
     "output_type": "error",
     "traceback": [
      "\u001b[1;31m---------------------------------------------------------------------------\u001b[0m",
      "\u001b[1;31mIndexError\u001b[0m                                Traceback (most recent call last)",
      "Cell \u001b[1;32mIn[25], line 12\u001b[0m\n\u001b[0;32m     10\u001b[0m         c\u001b[38;5;241m.\u001b[39mappend(\u001b[38;5;28mstr\u001b[39m(word[b]))\n\u001b[0;32m     11\u001b[0m     \u001b[38;5;28;01melse\u001b[39;00m:\n\u001b[1;32m---> 12\u001b[0m         d\u001b[38;5;241m.\u001b[39mappend(\u001b[38;5;28mstr\u001b[39m(\u001b[43mword\u001b[49m\u001b[43m[\u001b[49m\u001b[43mb\u001b[49m\u001b[43m]\u001b[49m))\n\u001b[0;32m     13\u001b[0m \u001b[38;5;28mprint\u001b[39m(c)\n\u001b[0;32m     14\u001b[0m \u001b[38;5;28mprint\u001b[39m(d)\n",
      "\u001b[1;31mIndexError\u001b[0m: string index out of range"
     ]
    }
   ],
   "source": [
    "c = []\n",
    "d = []\n",
    "word = input(\"입력해주세요!\")\n",
    "word2 = list(word)\n",
    "for n in range(word2.index(word2[-1]) + 1):\n",
    "    num = 0\n",
    "    num = n + 1\n",
    "    b = word2.index(word2[num]) + 1\n",
    "    if b == (b%2 == 0):\n",
    "        c.append(word[b])\n",
    "    else:\n",
    "        d.append(word[b])\n",
    "print(c)\n",
    "print(d)"
   ]
  },
  {
   "cell_type": "code",
   "execution_count": 18,
   "id": "59215d8a-c8dd-417a-9532-1548a1243455",
   "metadata": {},
   "outputs": [
    {
     "name": "stdin",
     "output_type": "stream",
     "text": [
      "입력해주세요! 가나다라마바사\n"
     ]
    },
    {
     "name": "stdout",
     "output_type": "stream",
     "text": [
      "7\n"
     ]
    }
   ],
   "source": [
    "word = input(\"입력해주세요!\")\n",
    "word2 = list(word)\n",
    "a = word2.index(word2[-1],-1) + 1\n",
    "print(a)"
   ]
  },
  {
   "cell_type": "code",
   "execution_count": null,
   "id": "4f8ce519-1984-4287-aaba-3455a606c39d",
   "metadata": {},
   "outputs": [],
   "source": []
  }
 ],
 "metadata": {
  "kernelspec": {
   "display_name": "Python 3 (ipykernel)",
   "language": "python",
   "name": "python3"
  },
  "language_info": {
   "codemirror_mode": {
    "name": "ipython",
    "version": 3
   },
   "file_extension": ".py",
   "mimetype": "text/x-python",
   "name": "python",
   "nbconvert_exporter": "python",
   "pygments_lexer": "ipython3",
   "version": "3.13.1"
  }
 },
 "nbformat": 4,
 "nbformat_minor": 5
}
