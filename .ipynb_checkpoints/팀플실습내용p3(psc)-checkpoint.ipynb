{
 "cells": [
  {
   "cell_type": "code",
   "execution_count": 31,
   "id": "06501ade-d31a-4893-9a91-618d5626b2e2",
   "metadata": {},
   "outputs": [
    {
     "name": "stdin",
     "output_type": "stream",
     "text": [
      "문장을 입력해주세요! 안녕하세요 저는 박세찬입니다.\n"
     ]
    },
    {
     "name": "stdout",
     "output_type": "stream",
     "text": [
      "박세찬입니다\n"
     ]
    }
   ],
   "source": [
    "a = input(\"문장을 입력해주세요!\")\n",
    "e = a.replace(\".\",\"\")\n",
    "b = e.split()\n",
    "c = []\n",
    "for n in range(b.index(b[-1])+1):\n",
    "    d = len(b[n])\n",
    "    c.append(d)\n",
    "    f = c.index(max(c))\n",
    "    g = b[f]\n",
    "print(g)"
   ]
  },
  {
   "cell_type": "code",
   "execution_count": 22,
   "id": "66e3631b-b042-4c47-b1ec-8b8762ab1827",
   "metadata": {},
   "outputs": [
    {
     "name": "stdin",
     "output_type": "stream",
     "text": [
      "문장을 입력해주세요! 안녕하세요 저는 박세찬입니다.\n"
     ]
    },
    {
     "name": "stdout",
     "output_type": "stream",
     "text": [
      "16\n"
     ]
    }
   ],
   "source": [
    "a = input(\"문장을 입력해주세요!\")\n",
    "b = len(a)\n",
    "print(b)"
   ]
  },
  {
   "cell_type": "code",
   "execution_count": null,
   "id": "89a1b51c-01ac-48eb-a878-642415b03c22",
   "metadata": {},
   "outputs": [],
   "source": []
  }
 ],
 "metadata": {
  "kernelspec": {
   "display_name": "Python 3 (ipykernel)",
   "language": "python",
   "name": "python3"
  },
  "language_info": {
   "codemirror_mode": {
    "name": "ipython",
    "version": 3
   },
   "file_extension": ".py",
   "mimetype": "text/x-python",
   "name": "python",
   "nbconvert_exporter": "python",
   "pygments_lexer": "ipython3",
   "version": "3.13.1"
  }
 },
 "nbformat": 4,
 "nbformat_minor": 5
}
