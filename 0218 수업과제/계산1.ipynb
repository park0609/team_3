{
 "cells": [
  {
   "cell_type": "code",
   "execution_count": null,
   "id": "559bdc65-593d-4500-87f9-358c6b27a714",
   "metadata": {},
   "outputs": [],
   "source": [
    "def birth():\n",
    "    import datetime\n",
    "    day = input(\"이번년도 생일을 입력해주세요!\")\n",
    "    day1 = \n",
    "    day2 = datetime.date(day)\n",
    "    "
   ]
  }
 ],
 "metadata": {
  "kernelspec": {
   "display_name": "Python 3 (ipykernel)",
   "language": "python",
   "name": "python3"
  },
  "language_info": {
   "codemirror_mode": {
    "name": "ipython",
    "version": 3
   },
   "file_extension": ".py",
   "mimetype": "text/x-python",
   "name": "python",
   "nbconvert_exporter": "python",
   "pygments_lexer": "ipython3",
   "version": "3.13.1"
  }
 },
 "nbformat": 4,
 "nbformat_minor": 5
}
