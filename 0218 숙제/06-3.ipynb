{
 "cells": [
  {
   "cell_type": "code",
   "execution_count": 30,
   "id": "734fc95c-26b4-4ed1-9a07-c7a58854f680",
   "metadata": {},
   "outputs": [
    {
     "name": "stdin",
     "output_type": "stream",
     "text": [
      "게시물의 총 개수를 입력하세요. 30\n",
      "페이지당 보여줄 게시물 수를 입력하세요. 10\n"
     ]
    },
    {
     "name": "stdout",
     "output_type": "stream",
     "text": [
      "3\n"
     ]
    }
   ],
   "source": [
    "# 게시판 페이징하기\n",
    "def get_total_page(num1,num2):\n",
    "    if num1 % num2 == 0: \n",
    "        return num1 // num2 \n",
    "    else: \n",
    "        return num1 // num2 + 1\n",
    "\n",
    "if __name__ == '__main__':\n",
    "    while True: \n",
    "        try:\n",
    "            num1 = int(input('게시물의 총 개수를 입력하세요.'))\n",
    "            num2 = int(input('페이지당 보여줄 게시물 수를 입력하세요.'))\n",
    "\n",
    "            if num1 < 0 or num2 < 0:\n",
    "                continue\n",
    "            else: \n",
    "                totalpage = get_total_page(num1,num2)\n",
    "                print(totalpage)\n",
    "            break\n",
    "        except:\n",
    "            pass"
   ]
  },
  {
   "attachments": {},
   "cell_type": "markdown",
   "id": "b09a9eef-faf9-4ea1-a492-59a61a72be1e",
   "metadata": {},
   "source": []
  },
  {
   "cell_type": "code",
   "execution_count": null,
   "id": "630c0504-d9e4-4318-a92b-4f2bdfa1d0e9",
   "metadata": {},
   "outputs": [],
   "source": []
  }
 ],
 "metadata": {
  "kernelspec": {
   "display_name": "Python 3 (ipykernel)",
   "language": "python",
   "name": "python3"
  },
  "language_info": {
   "codemirror_mode": {
    "name": "ipython",
    "version": 3
   },
   "file_extension": ".py",
   "mimetype": "text/x-python",
   "name": "python",
   "nbconvert_exporter": "python",
   "pygments_lexer": "ipython3",
   "version": "3.13.1"
  }
 },
 "nbformat": 4,
 "nbformat_minor": 5
}
