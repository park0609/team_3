{
 "cells": [
  {
   "cell_type": "code",
   "execution_count": 5,
   "id": "7b22affc-19f3-4a2b-84d1-4a49e1f7a959",
   "metadata": {},
   "outputs": [],
   "source": [
    "def write_5():\n",
    "    f = open(\"python5.txt\",\"r\")\n",
    "    f1 = f.read()\n",
    "    f2 = f1.replace(\"\\t\",\" \"*4)\n",
    "    f.close\n",
    "    f = open(\"python5.txt\",\"w\")\n",
    "    f.write(f2)\n",
    "    print(f2)\n",
    "    f.close\n"
   ]
  },
  {
   "cell_type": "code",
   "execution_count": null,
   "id": "3624eaf6-b089-4e8e-a100-d9b36bb61081",
   "metadata": {},
   "outputs": [],
   "source": []
  }
 ],
 "metadata": {
  "kernelspec": {
   "display_name": "Python 3 (ipykernel)",
   "language": "python",
   "name": "python3"
  },
  "language_info": {
   "codemirror_mode": {
    "name": "ipython",
    "version": 3
   },
   "file_extension": ".py",
   "mimetype": "text/x-python",
   "name": "python",
   "nbconvert_exporter": "python",
   "pygments_lexer": "ipython3",
   "version": "3.13.1"
  }
 },
 "nbformat": 4,
 "nbformat_minor": 5
}
