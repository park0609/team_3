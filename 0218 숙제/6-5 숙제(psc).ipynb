{
 "cells": [
  {
   "cell_type": "code",
   "execution_count": 19,
   "id": "7b22affc-19f3-4a2b-84d1-4a49e1f7a959",
   "metadata": {},
   "outputs": [
    {
     "name": "stdout",
     "output_type": "stream",
     "text": [
      "life    is    too    short\n"
     ]
    },
    {
     "data": {
      "text/plain": [
       "<function TextIOWrapper.close()>"
      ]
     },
     "execution_count": 19,
     "metadata": {},
     "output_type": "execute_result"
    }
   ],
   "source": [
    "def write_5():\n",
    "    f = open(\"python5.txt\",\"r\")\n",
    "    f1 = f.read()\n",
    "    f2 = f1.replace(\"\\t\",\" \"*4)\n",
    "    f.close\n",
    "    f = open(\"python5.txt\",\"w\")\n",
    "    f.write(f2)\n",
    "    print(f2)\n",
    "    f.close\n",
    "\n"
   ]
  },
  {
   "cell_type": "code",
   "execution_count": null,
   "id": "3624eaf6-b089-4e8e-a100-d9b36bb61081",
   "metadata": {},
   "outputs": [],
   "source": []
  }
 ],
 "metadata": {
  "kernelspec": {
   "display_name": "Python 3 (ipykernel)",
   "language": "python",
   "name": "python3"
  },
  "language_info": {
   "codemirror_mode": {
    "name": "ipython",
    "version": 3
   },
   "file_extension": ".py",
   "mimetype": "text/x-python",
   "name": "python",
   "nbconvert_exporter": "python",
   "pygments_lexer": "ipython3",
   "version": "3.13.1"
  }
 },
 "nbformat": 4,
 "nbformat_minor": 5
}
