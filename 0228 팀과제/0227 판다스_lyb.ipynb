{
 "cells": [
  {
   "cell_type": "code",
   "execution_count": 35,
   "id": "ccd9b229-f24a-40b1-8479-0b0f4d7f4e80",
   "metadata": {},
   "outputs": [],
   "source": [
    "import matplotlib\n",
    "import matplotlib.pyplot as plt\n",
    "import matplotlib.font_manager as fm\n",
    "# import matplotlib.dates as mdates\n",
    "import pandas as pd\n",
    "from datetime import datetime"
   ]
  },
  {
   "cell_type": "code",
   "execution_count": 36,
   "id": "240881c8-037b-452a-a5ff-0c4c9d55db82",
   "metadata": {},
   "outputs": [],
   "source": [
    "# font 설정 D2coding\n",
    "d2_path = \"./ref/D2Coding-Ver1.3.2-20180524.ttf\"\n",
    "fm.fontManager.addfont(d2_path)\n",
    "matplotlib.rcParams[\"font.family\"] = \"D2Coding\""
   ]
  },
  {
   "cell_type": "code",
   "execution_count": 37,
   "id": "d6f52622-7b8f-40b8-a5bc-c54f05c4c942",
   "metadata": {},
   "outputs": [
    {
     "data": {
      "text/html": [
       "<div>\n",
       "<style scoped>\n",
       "    .dataframe tbody tr th:only-of-type {\n",
       "        vertical-align: middle;\n",
       "    }\n",
       "\n",
       "    .dataframe tbody tr th {\n",
       "        vertical-align: top;\n",
       "    }\n",
       "\n",
       "    .dataframe thead th {\n",
       "        text-align: right;\n",
       "    }\n",
       "</style>\n",
       "<table border=\"1\" class=\"dataframe\">\n",
       "  <thead>\n",
       "    <tr style=\"text-align: right;\">\n",
       "      <th></th>\n",
       "      <th>category</th>\n",
       "      <th>date</th>\n",
       "      <th>internet</th>\n",
       "      <th>mobile</th>\n",
       "    </tr>\n",
       "  </thead>\n",
       "  <tbody>\n",
       "    <tr>\n",
       "      <th>2203</th>\n",
       "      <td>기타</td>\n",
       "      <td>2024.08</td>\n",
       "      <td>61304</td>\n",
       "      <td>120200</td>\n",
       "    </tr>\n",
       "    <tr>\n",
       "      <th>2204</th>\n",
       "      <td>기타</td>\n",
       "      <td>2024.09</td>\n",
       "      <td>63863</td>\n",
       "      <td>126583</td>\n",
       "    </tr>\n",
       "    <tr>\n",
       "      <th>2205</th>\n",
       "      <td>기타</td>\n",
       "      <td>2024.10</td>\n",
       "      <td>68403</td>\n",
       "      <td>128216</td>\n",
       "    </tr>\n",
       "    <tr>\n",
       "      <th>2206</th>\n",
       "      <td>기타</td>\n",
       "      <td>2024.11 p)</td>\n",
       "      <td>73246</td>\n",
       "      <td>135527</td>\n",
       "    </tr>\n",
       "    <tr>\n",
       "      <th>2207</th>\n",
       "      <td>기타</td>\n",
       "      <td>2024.12 p)</td>\n",
       "      <td>75613</td>\n",
       "      <td>144134</td>\n",
       "    </tr>\n",
       "  </tbody>\n",
       "</table>\n",
       "</div>"
      ],
      "text/plain": [
       "     category        date  internet  mobile\n",
       "2203       기타     2024.08     61304  120200\n",
       "2204       기타     2024.09     63863  126583\n",
       "2205       기타     2024.10     68403  128216\n",
       "2206       기타  2024.11 p)     73246  135527\n",
       "2207       기타  2024.12 p)     75613  144134"
      ]
     },
     "execution_count": 37,
     "metadata": {},
     "output_type": "execute_result"
    }
   ],
   "source": [
    "file_path =\"./ref/온라인쇼핑몰_판매매체별_상품군별거래액.csv\"\n",
    "ori = pd.read_csv(file_path, encoding=\"EUC-KR\") # utf-8\n",
    "ori.columns = [\"category\",\"date\", \"internet\", \"mobile\"]\n",
    "ori.tail()"
   ]
  },
  {
   "cell_type": "code",
   "execution_count": 38,
   "id": "8dfb0a2b-68e2-419a-bea2-66eb3afff0fa",
   "metadata": {},
   "outputs": [
    {
     "name": "stdout",
     "output_type": "stream",
     "text": [
      "수정전\n",
      "2203       2024.08\n",
      "2204       2024.09\n",
      "2205       2024.10\n",
      "2206    2024.11 p)\n",
      "2207    2024.12 p)\n",
      "Name: date, dtype: object\n",
      "수정후\n",
      "2203    2024.08\n",
      "2204    2024.09\n",
      "2205    2024.10\n",
      "2206    2024.11\n",
      "2207    2024.12\n",
      "Name: date, dtype: object\n"
     ]
    }
   ],
   "source": [
    "print(\"수정전\")\n",
    "print(ori['date'].tail())\n",
    "ori['date'] = ori['date'].map(lambda x: x.strip(' p)'))\n",
    "print(\"수정후\")\n",
    "print(ori['date'].tail())"
   ]
  },
  {
   "cell_type": "code",
   "execution_count": 39,
   "id": "12c52b5b-3a61-42c1-af8e-7c0fab4ff744",
   "metadata": {},
   "outputs": [
    {
     "data": {
      "text/html": [
       "<div>\n",
       "<style scoped>\n",
       "    .dataframe tbody tr th:only-of-type {\n",
       "        vertical-align: middle;\n",
       "    }\n",
       "\n",
       "    .dataframe tbody tr th {\n",
       "        vertical-align: top;\n",
       "    }\n",
       "\n",
       "    .dataframe thead th {\n",
       "        text-align: right;\n",
       "    }\n",
       "</style>\n",
       "<table border=\"1\" class=\"dataframe\">\n",
       "  <thead>\n",
       "    <tr style=\"text-align: right;\">\n",
       "      <th></th>\n",
       "      <th>category</th>\n",
       "      <th>date</th>\n",
       "      <th>internet</th>\n",
       "      <th>mobile</th>\n",
       "    </tr>\n",
       "  </thead>\n",
       "  <tbody>\n",
       "    <tr>\n",
       "      <th>2203</th>\n",
       "      <td>기타</td>\n",
       "      <td>2024-08-01</td>\n",
       "      <td>61304</td>\n",
       "      <td>120200</td>\n",
       "    </tr>\n",
       "    <tr>\n",
       "      <th>2204</th>\n",
       "      <td>기타</td>\n",
       "      <td>2024-09-01</td>\n",
       "      <td>63863</td>\n",
       "      <td>126583</td>\n",
       "    </tr>\n",
       "    <tr>\n",
       "      <th>2205</th>\n",
       "      <td>기타</td>\n",
       "      <td>2024-10-01</td>\n",
       "      <td>68403</td>\n",
       "      <td>128216</td>\n",
       "    </tr>\n",
       "    <tr>\n",
       "      <th>2206</th>\n",
       "      <td>기타</td>\n",
       "      <td>2024-11-01</td>\n",
       "      <td>73246</td>\n",
       "      <td>135527</td>\n",
       "    </tr>\n",
       "    <tr>\n",
       "      <th>2207</th>\n",
       "      <td>기타</td>\n",
       "      <td>2024-12-01</td>\n",
       "      <td>75613</td>\n",
       "      <td>144134</td>\n",
       "    </tr>\n",
       "  </tbody>\n",
       "</table>\n",
       "</div>"
      ],
      "text/plain": [
       "     category       date  internet  mobile\n",
       "2203       기타 2024-08-01     61304  120200\n",
       "2204       기타 2024-09-01     63863  126583\n",
       "2205       기타 2024-10-01     68403  128216\n",
       "2206       기타 2024-11-01     73246  135527\n",
       "2207       기타 2024-12-01     75613  144134"
      ]
     },
     "execution_count": 39,
     "metadata": {},
     "output_type": "execute_result"
    }
   ],
   "source": [
    "ori['date'] = pd.to_datetime(ori[\"date\"], format='%Y.%m')\n",
    "ori.dtypes\n",
    "ori.tail()"
   ]
  },
  {
   "cell_type": "code",
   "execution_count": 42,
   "id": "53bce2d7-f1f0-4cca-816e-25545e0641bf",
   "metadata": {},
   "outputs": [
    {
     "data": {
      "text/html": [
       "<div>\n",
       "<style scoped>\n",
       "    .dataframe tbody tr th:only-of-type {\n",
       "        vertical-align: middle;\n",
       "    }\n",
       "\n",
       "    .dataframe tbody tr th {\n",
       "        vertical-align: top;\n",
       "    }\n",
       "\n",
       "    .dataframe thead th {\n",
       "        text-align: right;\n",
       "    }\n",
       "</style>\n",
       "<table border=\"1\" class=\"dataframe\">\n",
       "  <thead>\n",
       "    <tr style=\"text-align: right;\">\n",
       "      <th></th>\n",
       "      <th>category</th>\n",
       "      <th>date</th>\n",
       "      <th>internet</th>\n",
       "      <th>mobile</th>\n",
       "    </tr>\n",
       "  </thead>\n",
       "  <tbody>\n",
       "    <tr>\n",
       "      <th>1229</th>\n",
       "      <td>농축수산물</td>\n",
       "      <td>2023-06-01</td>\n",
       "      <td>210887</td>\n",
       "      <td>612983</td>\n",
       "    </tr>\n",
       "    <tr>\n",
       "      <th>1224</th>\n",
       "      <td>농축수산물</td>\n",
       "      <td>2023-01-01</td>\n",
       "      <td>285794</td>\n",
       "      <td>784252</td>\n",
       "    </tr>\n",
       "    <tr>\n",
       "      <th>1167</th>\n",
       "      <td>농축수산물</td>\n",
       "      <td>2018-04-01</td>\n",
       "      <td>71138</td>\n",
       "      <td>144262</td>\n",
       "    </tr>\n",
       "    <tr>\n",
       "      <th>1170</th>\n",
       "      <td>농축수산물</td>\n",
       "      <td>2018-07-01</td>\n",
       "      <td>74924</td>\n",
       "      <td>149306</td>\n",
       "    </tr>\n",
       "    <tr>\n",
       "      <th>1163</th>\n",
       "      <td>농축수산물</td>\n",
       "      <td>2017-12-01</td>\n",
       "      <td>75792</td>\n",
       "      <td>146060</td>\n",
       "    </tr>\n",
       "  </tbody>\n",
       "</table>\n",
       "</div>"
      ],
      "text/plain": [
       "     category       date  internet  mobile\n",
       "1229    농축수산물 2023-06-01    210887  612983\n",
       "1224    농축수산물 2023-01-01    285794  784252\n",
       "1167    농축수산물 2018-04-01     71138  144262\n",
       "1170    농축수산물 2018-07-01     74924  149306\n",
       "1163    농축수산물 2017-12-01     75792  146060"
      ]
     },
     "execution_count": 42,
     "metadata": {},
     "output_type": "execute_result"
    }
   ],
   "source": [
    "ex1_data = ori.copy()\n",
    "# ex1_data[ex1_data['category']== '음식서비스'] \n",
    "obj = ['농축수산물']\n",
    "ex1_data = ex1_data[ex1_data['category'].isin(obj)]\n",
    "ex1_data.sample(5)"
   ]
  },
  {
   "cell_type": "code",
   "execution_count": 43,
   "id": "32e56477-7b13-4f25-b857-84b75ff57e8e",
   "metadata": {},
   "outputs": [
    {
     "data": {
      "image/png": "[encoded data removed]",
      "text/plain": [
       "<Figure size 1000x500 with 1 Axes>"
      ]
     },
     "metadata": {},
     "output_type": "display_data"
    }
   ],
   "source": [
    "fig , ax = plt.subplots(figsize=(10,5))\n",
    "category = obj\n",
    "\n",
    "for cate in category:\n",
    "    category_data = ex1_data[ex1_data['category'] ==cate]\n",
    "    x_data = category_data['internet']\n",
    "    y_data = category_data['mobile']\n",
    "    ax.scatter(x_data , y_data, s = 20, label = cate)\n",
    "    \n",
    "ax.set_xlabel(\"인터넷 쇼핑\")\n",
    "ax.set_ylabel(\"모바일 쇼핑\")\n",
    "ax.legend(loc=\"best\")\n",
    "ax.plot([0,1000000],[0,1000000],'k-',alpha=0.8)\n",
    "plt.show()"
   ]
  },
  {
   "cell_type": "code",
   "execution_count": 44,
   "id": "dd0a784e-e282-4631-b422-0d2dcfe56c35",
   "metadata": {},
   "outputs": [
    {
     "data": {
      "image/png": "[encoded data removed]",
      "text/plain": [
       "<Figure size 2500x1000 with 2 Axes>"
      ]
     },
     "metadata": {},
     "output_type": "display_data"
    }
   ],
   "source": [
    "fig, ax = plt.subplots(1,2,figsize=(25,10))\n",
    "category = obj \n",
    "\n",
    "for cate in category:\n",
    "    category_data = ex1_data[ex1_data['category'] ==cate]\n",
    "    x_data = category_data['internet']\n",
    "    y_data = category_data['mobile']\n",
    "    ax[0].bar(x_data, y_data, width = 100, label = cate)\n",
    "\n",
    "ax[0].set_xlabel(\"인터넷 쇼핑\")\n",
    "ax[0].set_ylabel(\"모바일 쇼핑\")\n",
    "ax[0].legend(loc=\"best\")\n",
    "\n",
    "tdata = category_data['date']\n",
    "second = ex1_data[ex1_data['category']==obj[0]]\n",
    "idata = second['internet']\n",
    "mdata = second['mobile']\n",
    "\n",
    "ax[1].bar(tdata, idata, width=20 , label = obj[0]+ '(인터넷)')\n",
    "ax[1].bar(tdata, mdata, width=20, label = obj[0]+ '(모바일)')\n",
    "ax[1].legend()\n",
    "\n",
    "plt.show()"
   ]
  }
 ],
 "metadata": {
  "kernelspec": {
   "display_name": "Python 3 (ipykernel)",
   "language": "python",
   "name": "python3"
  },
  "language_info": {
   "codemirror_mode": {
    "name": "ipython",
    "version": 3
   },
   "file_extension": ".py",
   "mimetype": "text/x-python",
   "name": "python",
   "nbconvert_exporter": "python",
   "pygments_lexer": "ipython3",
   "version": "3.13.1"
  }
 },
 "nbformat": 4,
 "nbformat_minor": 5
}
