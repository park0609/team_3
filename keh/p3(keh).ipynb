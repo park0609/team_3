{
 "cells": [
  {
   "cell_type": "code",
   "execution_count": 108,
   "id": "46722a58-2c1f-41a9-8a13-3c2a6a1dcc6b",
   "metadata": {},
   "outputs": [
    {
     "name": "stdin",
     "output_type": "stream",
     "text": [
      "문장을 입력해 주세요. 이제 배불러요 집에 보내줘요 버스 타고싶어\n"
     ]
    },
    {
     "name": "stdout",
     "output_type": "stream",
     "text": [
      "['이제', '배불러요', '집에', '보내줘요', '버스', '타고싶어']\n",
      "배불러요 보내줘요 타고싶어 "
     ]
    }
   ],
   "source": [
    "# 문장 긴 것 중 제일 긴 단어 표시하기 !!!\n",
    "word = input(\"문장을 입력해 주세요.\")\n",
    "sentence = word.split()\n",
    "print(sentence)\n",
    "def long():\n",
    "    s1 = []\n",
    "    for n in range(len(sentence)):\n",
    "        s1.append(len(sentence[n]))\n",
    "    for x in range(len(sentence)):\n",
    "        if max(s1) == len(sentence[x]):\n",
    "            print(sentence[x], end = ' ')\n",
    "long()"
   ]
  }
 ],
 "metadata": {
  "kernelspec": {
   "display_name": "Python 3 (ipykernel)",
   "language": "python",
   "name": "python3"
  },
  "language_info": {
   "codemirror_mode": {
    "name": "ipython",
    "version": 3
   },
   "file_extension": ".py",
   "mimetype": "text/x-python",
   "name": "python",
   "nbconvert_exporter": "python",
   "pygments_lexer": "ipython3",
   "version": "3.13.1"
  }
 },
 "nbformat": 4,
 "nbformat_minor": 5
}
