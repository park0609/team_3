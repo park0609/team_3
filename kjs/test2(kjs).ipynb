{
 "cells": [
  {
   "cell_type": "code",
   "execution_count": 1,
   "id": "17d7698d-dd79-4951-87c6-b1a299e54913",
   "metadata": {},
   "outputs": [
    {
     "name": "stdout",
     "output_type": "stream",
     "text": [
      "짝수\n",
      "0\n",
      "2\n",
      "4\n",
      "6\n",
      "8\n",
      "10\n",
      "12\n",
      "14\n",
      "16\n",
      "18\n",
      "\n",
      "홀수\n",
      "1\n",
      "3\n",
      "5\n",
      "7\n",
      "9\n",
      "11\n",
      "13\n",
      "15\n",
      "17\n",
      "19\n"
     ]
    }
   ],
   "source": [
    "n = list(range(20))\n",
    "print(\"짝수\")\n",
    "for n in range(0,20,2) :\n",
    "    print(n)\n",
    "print()\n",
    "print(\"홀수\")\n",
    "for n in range(1,20,2) :\n",
    "    print(n)"
   ]
  },
  {
   "cell_type": "code",
   "execution_count": 2,
   "id": "f8552821-cde5-4aa4-b557-6bad701321a0",
   "metadata": {},
   "outputs": [
    {
     "name": "stdin",
     "output_type": "stream",
     "text": [
      "입력해주세요! 1234\n"
     ]
    },
    {
     "name": "stdout",
     "output_type": "stream",
     "text": [
      "['1', '3']\n",
      "['2', '4']\n"
     ]
    }
   ],
   "source": [
    "c = []\n",
    "d = []\n",
    "word = input(\"입력해주세요!\")\n",
    "word2 = list(word)\n",
    "for n in range(word2.index(word2[-1])+1):\n",
    "    b = word2.index(word2[n])\n",
    "    if b%2 == 0:\n",
    "        c.append(word[b])\n",
    "    else:\n",
    "        d.append(word[b])\n",
    "print(c)\n",
    "print(d)"
   ]
  },
  {
   "cell_type": "code",
   "execution_count": 2,
   "id": "305210be-8f04-4de3-8a0e-6a6e94670c3b",
   "metadata": {},
   "outputs": [],
   "source": [
    "class Calculator:\n",
    "    def __init__(self):\n",
    "        self.result1 = 0\n",
    "        self.result2 = 1\n",
    "        \n",
    "    def mult(self,num):\n",
    "        self.result2 *= num\n",
    "        return self.result2\n",
    "\n",
    "    def add(self,num):\n",
    "        self.result1 += num\n",
    "        return self.result1 \n",
    "    \n",
    "    def div(self,num):\n",
    "        self.result2 /= num\n",
    "        return self.result2\n",
    "        \n",
    "    def sub(self,num):\n",
    "        self.result1 -= num\n",
    "        return self.result1"
   ]
  },
  {
   "cell_type": "code",
   "execution_count": null,
   "id": "002fb15e-5b80-49fc-bd47-76e779819b78",
   "metadata": {},
   "outputs": [],
   "source": [
    "Calculator.add(2)"
   ]
  },
  {
   "cell_type": "code",
   "execution_count": null,
   "id": "abe8b494-1bd6-4975-8905-1b5984ba4826",
   "metadata": {},
   "outputs": [],
   "source": []
  }
 ],
 "metadata": {
  "kernelspec": {
   "display_name": "Python 3 (ipykernel)",
   "language": "python",
   "name": "python3"
  },
  "language_info": {
   "codemirror_mode": {
    "name": "ipython",
    "version": 3
   },
   "file_extension": ".py",
   "mimetype": "text/x-python",
   "name": "python",
   "nbconvert_exporter": "python",
   "pygments_lexer": "ipython3",
   "version": "3.13.1"
  }
 },
 "nbformat": 4,
 "nbformat_minor": 5
}
