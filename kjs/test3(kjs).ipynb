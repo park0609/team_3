{
 "cells": [
  {
   "cell_type": "code",
   "execution_count": null,
   "id": "281a3fd2-2e96-4763-8f19-b28f5aa52ab3",
   "metadata": {},
   "outputs": [],
   "source": [
    "a = input(\"하고싶은말은?\")\n",
    "word = a.split()\n",
    "\n",
    "print(len(word))\n",
    "print(word)"
   ]
  },
  {
   "cell_type": "code",
   "execution_count": 1,
   "id": "e9b511c6-4fd2-412e-bf86-36f82833a832",
   "metadata": {},
   "outputs": [
    {
     "name": "stdin",
     "output_type": "stream",
     "text": [
      "문장을 입력해주세요! 나는 감자탕을 좋아합니다\n"
     ]
    },
    {
     "name": "stdout",
     "output_type": "stream",
     "text": [
      "좋아합니다\n"
     ]
    }
   ],
   "source": [
    "a = input(\"문장을 입력해주세요!\")\n",
    "e = a.replace(\".\",\"\")\n",
    "b = e.split()\n",
    "c = []\n",
    "for n in range(b.index(b[-1])+1):\n",
    "    d = len(b[n])\n",
    "    c.append(d)\n",
    "    f = c.index(max(c))\n",
    "    g = b[f]\n",
    "print(g)"
   ]
  },
  {
   "cell_type": "code",
   "execution_count": null,
   "id": "81f25534-bc85-4be5-9ebd-e5f791a55898",
   "metadata": {},
   "outputs": [],
   "source": []
  }
 ],
 "metadata": {
  "kernelspec": {
   "display_name": "Python 3 (ipykernel)",
   "language": "python",
   "name": "python3"
  },
  "language_info": {
   "codemirror_mode": {
    "name": "ipython",
    "version": 3
   },
   "file_extension": ".py",
   "mimetype": "text/x-python",
   "name": "python",
   "nbconvert_exporter": "python",
   "pygments_lexer": "ipython3",
   "version": "3.13.1"
  }
 },
 "nbformat": 4,
 "nbformat_minor": 5
}
