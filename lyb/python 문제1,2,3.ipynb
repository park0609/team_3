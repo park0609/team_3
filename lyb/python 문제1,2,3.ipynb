{
 "cells": [
  {
   "cell_type": "code",
   "execution_count": 1,
   "id": "f0905edd-70b7-4273-89ab-92ff9fee7eff",
   "metadata": {},
   "outputs": [
    {
     "name": "stdin",
     "output_type": "stream",
     "text": [
      "단어를 입력하세요: 파이썬\n"
     ]
    },
    {
     "name": "stdout",
     "output_type": "stream",
     "text": [
      "False\n"
     ]
    }
   ],
   "source": [
    "# p1 입력을 하면 그 단어가 거꾸로 해도 같은 단어인지 확인하는 프로그램을 만들어라.\n",
    "list = ['우영우', '인도인', '파이썬']\n",
    "word = input('단어를 입력하세요:')\n",
    "\n",
    "list = True\n",
    "for i in range(len(word) // 2):\n",
    "    if word[i] != word[-1 - i]:\n",
    "        list = False\n",
    "        break\n",
    "\n",
    "print(list)\n",
    "# 같은 단어이면 True, 다르면 False입니다."
   ]
  },
  {
   "cell_type": "code",
   "execution_count": 2,
   "id": "e53091d0-751c-4e49-b383-f533e1fa8bd5",
   "metadata": {},
   "outputs": [
    {
     "name": "stdout",
     "output_type": "stream",
     "text": [
      "[1, 2, 3, 4, 5, 6, 7, 8, 9, 10.11, 12, 13, 14, 15, 16, 17, 18, 19, 20]\n",
      " 짝수 리스트는 [0, 2, 4, 6, 8, 10, 12, 14, 16, 18]입니다.\n",
      " 홀수 리스트는 [1, 3, 5, 7, 9, 11, 13, 15, 17, 19]입니다.\n"
     ]
    }
   ],
   "source": [
    "# p2 하나의 긴 리스트값을 입력하면 두개의 리스트로 결과가 나오는데 각각 짝수의 값이 담기고 홀수의 값이 담기도록 한다. \n",
    "num = [1,2,3,4,5,6,7,8,9,10.11,12,13,14,15,16,17,18,19,20]\n",
    "result1 = []\n",
    "result2 = []\n",
    "for n in range(0,20,2):\n",
    "    if n % 2 == 0: \n",
    "        result1.append(n)\n",
    "for n in range(1,20,2):\n",
    "    if n % 2 == 1: \n",
    "        result2.append(n)\n",
    "print(num)\n",
    "print(f' 짝수 리스트는 {result1}입니다.')\n",
    "print(f' 홀수 리스트는 {result2}입니다.')"
   ]
  },
  {
   "cell_type": "code",
   "execution_count": 3,
   "id": "e2a61de7-b0f3-43d1-9900-43f40f702250",
   "metadata": {},
   "outputs": [
    {
     "name": "stdin",
     "output_type": "stream",
     "text": [
      "문장을 입력하세요 나는 살아있다. \n"
     ]
    },
    {
     "name": "stdout",
     "output_type": "stream",
     "text": [
      "Longest word: 살아있다.\n"
     ]
    }
   ],
   "source": [
    "# p3 하나의 긴 문장을 입력받았을 때 그 문장 중에 가장 긴 단어를 밖으로 출력하게 하세요. (긴 글자가 하나이상 있으면 그 글자 모두)\n",
    "def find_longest_word(sentence):\n",
    "    words = sentence.split()\n",
    "    return max(words,key=len)\n",
    "text = input(\"문장을 입력하세요\")\n",
    "print(\"Longest word:\",find_longest_word(text))"
   ]
  },
  {
   "cell_type": "code",
   "execution_count": 19,
   "id": "bc7e7087-9036-40f9-9a0e-7919fdc1e38c",
   "metadata": {},
   "outputs": [
    {
     "name": "stdin",
     "output_type": "stream",
     "text": [
      "당신의 기분을 한 문장으로 표현해주세요 싫어 in 오늘 답답하지만 할만해, 멋져\n"
     ]
    },
    {
     "name": "stdout",
     "output_type": "stream",
     "text": [
      "기분이 좋아보이네요.\n"
     ]
    }
   ],
   "source": [
    "# p4 입력을 받은 문장을 분류하여라.\n",
    "positive_words = [\"좋아\", \"행복\", \"멋져\", \"최고\", \"사랑해\"]\n",
    "negative_words = [\"싫어\", \"화나\", \"짜증\", \"별로\", \"나빠\"]\n",
    "pos = set(positive_words)\n",
    "neg = set(negative_words)\n",
    "\n",
    "text = input(\"당신의 기분을 한 문장으로 표현해주세요\")\n",
    "text2 = text.split()\n",
    "text3 = set(text2)\n",
    "\n",
    "if pos.intersection(text3):\n",
    "    print(\"기분이 좋아보이네요.\")\n",
    "elif neg.intersection(text3):\n",
    "    print(\"기분이 나빠보이네요.\")\n",
    "else:\n",
    "    print(\"평범한 하루네요.\")"
   ]
  },
  {
   "cell_type": "code",
   "execution_count": 6,
   "id": "29101f45-ce7f-4698-b06d-a04f57cf9994",
   "metadata": {},
   "outputs": [
    {
     "name": "stdin",
     "output_type": "stream",
     "text": [
      "영어 문장을 입력하세요. life is what happens when you're busy making other plans!\n"
     ]
    },
    {
     "name": "stdout",
     "output_type": "stream",
     "text": [
      "Life Is What Happens When You'Re Busy Making Other Plans!\n"
     ]
    }
   ],
   "source": [
    "# p5 영어 소문자로 문장을 입력받으면 매 첫글자만 대문자로 변경되게 하라. \n",
    "original_string = input('영어 문장을 입력하세요.')\n",
    "capitalized_string = original_string.title()\n",
    "print(capitalized_string)"
   ]
  },
  {
   "cell_type": "code",
   "execution_count": null,
   "id": "683b5f71-ea18-4bc5-801b-479f4fce73f6",
   "metadata": {},
   "outputs": [],
   "source": []
  }
 ],
 "metadata": {
  "kernelspec": {
   "display_name": "Python 3 (ipykernel)",
   "language": "python",
   "name": "python3"
  },
  "language_info": {
   "codemirror_mode": {
    "name": "ipython",
    "version": 3
   },
   "file_extension": ".py",
   "mimetype": "text/x-python",
   "name": "python",
   "nbconvert_exporter": "python",
   "pygments_lexer": "ipython3",
   "version": "3.13.1"
  }
 },
 "nbformat": 4,
 "nbformat_minor": 5
}
