{
 "cells": [
  {
   "cell_type": "code",
   "execution_count": 11,
   "id": "94c286d0-34ab-430f-8332-5978d5eb479c",
   "metadata": {},
   "outputs": [
    {
     "name": "stdin",
     "output_type": "stream",
     "text": [
      "리스트를 입력하세요 1\n"
     ]
    },
    {
     "name": "stdout",
     "output_type": "stream",
     "text": [
      "[1, 2, 3, 4, 5, 6, 7, 8, 9, 10]\n",
      "홀수 리스트는 [1, 3, 5, 7, 9]입니다.\n",
      "짝수 리스트는 [2, 4, 6, 8, 10]입니다.\n"
     ]
    }
   ],
   "source": [
    "def List():\n",
    "    l1 = []\n",
    "    num = int(input(\"리스트를 입력하세요\"))\n",
    "    for n in range (10):\n",
    "        len(l1) < 10\n",
    "        l1.append(num+n)\n",
    "        odd = []\n",
    "        even =[]\n",
    "        for x in range(len(l1)):\n",
    "            if l1[x] %2 == 0:\n",
    "                even.append(l1[x])\n",
    "            if l1[x] %2 == 1:\n",
    "                odd.append(l1[x])\n",
    "    print(l1)\n",
    "    print(f'홀수 리스트는 {odd}입니다.')\n",
    "    print(f'짝수 리스트는 {even}입니다.')\n",
    "List()"
   ]
  }
 ],
 "metadata": {
  "kernelspec": {
   "display_name": "Python 3 (ipykernel)",
   "language": "python",
   "name": "python3"
  },
  "language_info": {
   "codemirror_mode": {
    "name": "ipython",
    "version": 3
   },
   "file_extension": ".py",
   "mimetype": "text/x-python",
   "name": "python",
   "nbconvert_exporter": "python",
   "pygments_lexer": "ipython3",
   "version": "3.13.1"
  }
 },
 "nbformat": 4,
 "nbformat_minor": 5
}
