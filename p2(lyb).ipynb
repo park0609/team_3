{
 "cells": [
  {
   "cell_type": "code",
   "execution_count": null,
   "id": "a6f2fa7e-fd73-4613-85b3-61c34d7b007e",
   "metadata": {},
   "outputs": [],
   "source": [
    "# p2 하나의 긴 리스트값을 입력하면 두개의 리스트로 결과가 나오는데 각각 짝수의 값이 담기고 홀수의 값이 담기도록 한다. \n",
    "num = [1,2,3,4,5,6,7,8,9,10.11,12,13,14,15,16,17,18,19,20]\n",
    "result1 = []\n",
    "result2 = []\n",
    "for n in range(0,20,2):\n",
    "    if n % 2 == 0: \n",
    "        result1.append(n)\n",
    "for n in range(1,20,2):\n",
    "    if n % 2 == 1: \n",
    "        result2.append(n)\n",
    "print(num)\n",
    "print(f' 짝수 리스트는 {result1}입니다.')\n",
    "print(f' 홀수 리스트는 {result2}입니다.')"
   ]
  }
 ],
 "metadata": {
  "kernelspec": {
   "display_name": "Python 3 (ipykernel)",
   "language": "python",
   "name": "python3"
  },
  "language_info": {
   "codemirror_mode": {
    "name": "ipython",
    "version": 3
   },
   "file_extension": ".py",
   "mimetype": "text/x-python",
   "name": "python",
   "nbconvert_exporter": "python",
   "pygments_lexer": "ipython3",
   "version": "3.13.1"
  }
 },
 "nbformat": 4,
 "nbformat_minor": 5
}
