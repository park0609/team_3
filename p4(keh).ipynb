{
 "cells": [
  {
   "cell_type": "code",
   "execution_count": 109,
   "id": "ef3d16f9-de10-4a28-a6f3-0c6b8991c34d",
   "metadata": {},
   "outputs": [
    {
     "name": "stdin",
     "output_type": "stream",
     "text": [
      "지금의 기분을 입력하세요 🙂 오늘은 나빠.\n"
     ]
    },
    {
     "name": "stdout",
     "output_type": "stream",
     "text": [
      "['오늘은', '나빠']\n"
     ]
    },
    {
     "data": {
      "text/plain": [
       "'평범한 하루셨군요! 평범이 제일이예요. 😉'"
      ]
     },
     "execution_count": 109,
     "metadata": {},
     "output_type": "execute_result"
    }
   ],
   "source": [
    "# 내... 기분을 ...표현하기....\n",
    "positive_words = [\"좋아\", \"행복\", \"멋져\", \"최고\", \"사랑해\"]\n",
    "negative_words = [\"싫어\", \"화나\", \"짜증\", \"별로\", \"나빠\"]\n",
    "now = input(\"지금의 기분을 입력하세요 🙂\")\n",
    "n=now.replace(\".\",\"\").replace(\"!\",\"\").replace(\",\",\"\")\n",
    "mood = n.split()\n",
    "print(mood)\n",
    "def nowmood():\n",
    "    for x in range(len(mood)):\n",
    "        if mood[x] in positive_words:\n",
    "            return(\"기분이 좋아 보이네요! 😊 좋은 일이 있으셨나요? \")\n",
    "        elif mood[x] in negative_words:\n",
    "            return(\"기분이 나빠 보이네요. 🥲 무슨 일이 있으셨나요? \")\n",
    "        else:\n",
    "            return(\"평범한 하루셨군요! 평범이 제일이예요. 😉\")\n",
    "nowmood()"
   ]
  }
 ],
 "metadata": {
  "kernelspec": {
   "display_name": "Python 3 (ipykernel)",
   "language": "python",
   "name": "python3"
  },
  "language_info": {
   "codemirror_mode": {
    "name": "ipython",
    "version": 3
   },
   "file_extension": ".py",
   "mimetype": "text/x-python",
   "name": "python",
   "nbconvert_exporter": "python",
   "pygments_lexer": "ipython3",
   "version": "3.13.1"
  }
 },
 "nbformat": 4,
 "nbformat_minor": 5
}
