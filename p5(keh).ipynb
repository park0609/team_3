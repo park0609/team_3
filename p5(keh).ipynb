{
 "cells": [
  {
   "cell_type": "code",
   "execution_count": 128,
   "id": "9c11d232-f618-4afc-9c1f-86e5f3ef31b2",
   "metadata": {},
   "outputs": [
    {
     "name": "stdin",
     "output_type": "stream",
     "text": [
      "문장을 입력하세요! today is a beautiful day!\n"
     ]
    },
    {
     "name": "stdout",
     "output_type": "stream",
     "text": [
      "Today Is A Beautiful Day!\n"
     ]
    }
   ],
   "source": [
    "english = input(\"문장을 입력하세요!\")\n",
    "a = english.split()\n",
    "sentence = []\n",
    "for n in range (0,len(a)):\n",
    "    b = a[n]\n",
    "    c = a[n][0]\n",
    "    d = c.upper()\n",
    "    e = b.replace(c,d)\n",
    "    f = sentence.append(e)\n",
    "    g = \" \".join(sentence)\n",
    "print(g)"
   ]
  }
 ],
 "metadata": {
  "kernelspec": {
   "display_name": "Python 3 (ipykernel)",
   "language": "python",
   "name": "python3"
  },
  "language_info": {
   "codemirror_mode": {
    "name": "ipython",
    "version": 3
   },
   "file_extension": ".py",
   "mimetype": "text/x-python",
   "name": "python",
   "nbconvert_exporter": "python",
   "pygments_lexer": "ipython3",
   "version": "3.13.2"
  }
 },
 "nbformat": 4,
 "nbformat_minor": 5
}
