{
 "cells": [
  {
   "cell_type": "code",
   "execution_count": null,
   "id": "2aa69b67-b9dc-4fff-9682-38a3b5168851",
   "metadata": {},
   "outputs": [],
   "source": [
    "# p5 영어 소문자로 문장을 입력받으면 매 첫글자만 대문자로 변경되게 하라. \n",
    "original_string = input('영어 문장을 입력하세요.')\n",
    "capitalized_string = original_string.capitalize()\n",
    "print(capitalized_string)"
   ]
  }
 ],
 "metadata": {
  "kernelspec": {
   "display_name": "Python 3 (ipykernel)",
   "language": "python",
   "name": "python3"
  },
  "language_info": {
   "codemirror_mode": {
    "name": "ipython",
    "version": 3
   },
   "file_extension": ".py",
   "mimetype": "text/x-python",
   "name": "python",
   "nbconvert_exporter": "python",
   "pygments_lexer": "ipython3",
   "version": "3.13.1"
  }
 },
 "nbformat": 4,
 "nbformat_minor": 5
}
