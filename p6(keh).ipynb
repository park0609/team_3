{
 "cells": [
  {
   "cell_type": "code",
   "execution_count": 7,
   "id": "4a71c82a-362d-4d8f-8336-ec350cdf196c",
   "metadata": {},
   "outputs": [
    {
     "name": "stdout",
     "output_type": "stream",
     "text": [
      "1 캡틴 아메리카: 브레이브 뉴 월드\n",
      "2 말할 수 없는 비밀\n",
      "3 히트맨2\n",
      "4 명탐정 코난: 14번째 표적\n",
      "5 서브스턴스\n",
      "6 검은 수녀들\n",
      "7 엘리: 몬스터 패밀리\n",
      "8 브루탈리스트\n",
      "9 더 폴: 디렉터스 컷\n",
      "10 미드나잇 인 파리\n"
     ]
    }
   ],
   "source": [
    "import requests as req\n",
    "url= 'http://kobis.or.kr/kobisopenapi/webservice/rest/boxoffice/searchDailyBoxOfficeList.json?key=1f1209fd1763d09de17660c9fe336cc1&targetDt=20250215&boxofficeType'\n",
    "res = req.get(url).json()\n",
    "\n",
    "result = res['boxOfficeResult']['dailyBoxOfficeList']\n",
    "\n",
    "for n in result:\n",
    "    print(n[\"rank\"],n[\"movieNm\"])\n",
    "\n"
   ]
  },
  {
   "cell_type": "code",
   "execution_count": null,
   "id": "ae21e476-7ef9-4647-8b7f-6423bc7e25fc",
   "metadata": {},
   "outputs": [],
   "source": []
  }
 ],
 "metadata": {
  "kernelspec": {
   "display_name": "Python 3 (ipykernel)",
   "language": "python",
   "name": "python3"
  },
  "language_info": {
   "codemirror_mode": {
    "name": "ipython",
    "version": 3
   },
   "file_extension": ".py",
   "mimetype": "text/x-python",
   "name": "python",
   "nbconvert_exporter": "python",
   "pygments_lexer": "ipython3",
   "version": "3.13.2"
  }
 },
 "nbformat": 4,
 "nbformat_minor": 5
}
