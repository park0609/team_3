{
 "cells": [
  {
   "cell_type": "code",
   "execution_count": 54,
   "id": "833fba60-4af2-47ee-9ef3-095e7532c883",
   "metadata": {},
   "outputs": [
    {
     "name": "stdin",
     "output_type": "stream",
     "text": [
      "기분이 어떠세요? 좋아 싫어\n"
     ]
    },
    {
     "name": "stdout",
     "output_type": "stream",
     "text": [
      "{'싫어', '좋아'}\n",
      "기분이 좋아보이네요.\n"
     ]
    }
   ],
   "source": [
    "# p4)\n",
    "positive_words = [\"좋아\", \"행복\", \"멋져\", \"최고\", \"사랑해\"]\n",
    "negative_words = [\"싫어\", \"화나\", \"짜증\", \"별로\", \"나빠\"]\n",
    "pos = set(positive_words)\n",
    "neg = set(negative_words)\n",
    "\n",
    "emo = input(\"기분이 어떠세요?\")\n",
    "a1 = emo.split()\n",
    "a2 = set(a1)\n",
    "print(a2)\n",
    "\n",
    "if pos.intersection(a2) :\n",
    "    print(\"기분이 좋아보이네요.\")\n",
    "elif neg.intersection(a2) :\n",
    "    print(\"기분이 나빠보이네요.\")\n",
    "elif pos|neg :\n",
    "    print(\"다시 말해\")\n",
    "else :\n",
    "    print(\"평범한 하루네요.\")"
   ]
  },
  {
   "cell_type": "code",
   "execution_count": null,
   "id": "4f25d4e1-f4fa-435e-884f-75d2a21e9878",
   "metadata": {},
   "outputs": [],
   "source": []
  }
 ],
 "metadata": {
  "kernelspec": {
   "display_name": "Python 3 (ipykernel)",
   "language": "python",
   "name": "python3"
  },
  "language_info": {
   "codemirror_mode": {
    "name": "ipython",
    "version": 3
   },
   "file_extension": ".py",
   "mimetype": "text/x-python",
   "name": "python",
   "nbconvert_exporter": "python",
   "pygments_lexer": "ipython3",
   "version": "3.13.1"
  }
 },
 "nbformat": 4,
 "nbformat_minor": 5
}
