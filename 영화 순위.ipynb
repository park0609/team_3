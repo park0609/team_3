{
 "cells": [
  {
   "cell_type": "code",
   "execution_count": 2,
   "id": "4e8e8257-cbee-437d-a052-86b23f18b8e9",
   "metadata": {},
   "outputs": [
    {
     "ename": "KeyError",
     "evalue": "'boxOfficeResult'",
     "output_type": "error",
     "traceback": [
      "\u001b[1;31m---------------------------------------------------------------------------\u001b[0m",
      "\u001b[1;31mKeyError\u001b[0m                                  Traceback (most recent call last)",
      "Cell \u001b[1;32mIn[2], line 10\u001b[0m\n\u001b[0;32m      6\u001b[0m text \u001b[38;5;241m=\u001b[39m res\u001b[38;5;241m.\u001b[39mtext\n\u001b[0;32m      8\u001b[0m d \u001b[38;5;241m=\u001b[39m json\u001b[38;5;241m.\u001b[39mloads(text)\n\u001b[1;32m---> 10\u001b[0m \u001b[38;5;28;01mfor\u001b[39;00m b \u001b[38;5;129;01min\u001b[39;00m \u001b[43md\u001b[49m\u001b[43m[\u001b[49m\u001b[38;5;124;43m'\u001b[39;49m\u001b[38;5;124;43mboxOfficeResult\u001b[39;49m\u001b[38;5;124;43m'\u001b[39;49m\u001b[43m]\u001b[49m[\u001b[38;5;124m'\u001b[39m\u001b[38;5;124mdailyBoxOfficeList\u001b[39m\u001b[38;5;124m'\u001b[39m]:\n\u001b[0;32m     11\u001b[0m     \u001b[38;5;28mprint\u001b[39m([b[\u001b[38;5;124m'\u001b[39m\u001b[38;5;124mrank\u001b[39m\u001b[38;5;124m'\u001b[39m],b[\u001b[38;5;124m'\u001b[39m\u001b[38;5;124mmovieNm\u001b[39m\u001b[38;5;124m'\u001b[39m],b[\u001b[38;5;124m'\u001b[39m\u001b[38;5;124maudiCnt\u001b[39m\u001b[38;5;124m'\u001b[39m]])\n",
      "\u001b[1;31mKeyError\u001b[0m: 'boxOfficeResult'"
     ]
    }
   ],
   "source": [
    "import requests\n",
    "import json\n",
    "\n",
    "url = \"http://kobis.or.kr/kobisopenapi/webservice/rest/boxoffice/searchDailyBoxOfficeList.json?key=86c5204088a51e4d9a9e26141ed5b401&targetDt=20250215\"\n",
    "res = requests.get(url)\n",
    "text = res.text\n",
    "\n",
    "d = json.loads(text)\n",
    "\n",
    "for b in d['boxOfficeResult']['dailyBoxOfficeList']:\n",
    "    print([b['rank'],b['movieNm'],b['audiCnt']])"
   ]
  },
  {
   "cell_type": "code",
   "execution_count": null,
   "id": "59a322ef-0215-45c0-89f0-9ddda98d5fb7",
   "metadata": {},
   "outputs": [],
   "source": []
  },
  {
   "cell_type": "code",
   "execution_count": null,
   "id": "81ad0529-c2f4-4c20-a978-5960d8f8da87",
   "metadata": {},
   "outputs": [],
   "source": []
  }
 ],
 "metadata": {
  "kernelspec": {
   "display_name": "Python 3 (ipykernel)",
   "language": "python",
   "name": "python3"
  },
  "language_info": {
   "codemirror_mode": {
    "name": "ipython",
    "version": 3
   },
   "file_extension": ".py",
   "mimetype": "text/x-python",
   "name": "python",
   "nbconvert_exporter": "python",
   "pygments_lexer": "ipython3",
   "version": "3.13.1"
  }
 },
 "nbformat": 4,
 "nbformat_minor": 5
}
