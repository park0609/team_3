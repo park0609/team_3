{
 "cells": [
  {
   "cell_type": "code",
   "execution_count": null,
   "id": "4e8e8257-cbee-437d-a052-86b23f18b8e9",
   "metadata": {},
   "outputs": [],
   "source": [
    "import requests\n",
    "import json\n",
    "\n",
    "url = \"http://kobis.or.kr/kobisopenapi/webservice/rest/boxoffice/searchDailyBoxOfficeList.json?key=86c5204088a51e4d9a9e26141ed5b401&targetDt=20250215\"\n",
    "res = requests.get(url)\n",
    "text = res.text\n",
    "\n",
    "d = json.loads(text)\n",
    "\n",
    "for b in d['boxOfficeResult']['dailyBoxOfficeList']:\n",
    "    print([b['rank'],b['movieNm'],b['audiCnt']])"
   ]
  },
  {
   "cell_type": "code",
   "execution_count": null,
   "id": "59a322ef-0215-45c0-89f0-9ddda98d5fb7",
   "metadata": {},
   "outputs": [],
   "source": []
  },
  {
   "cell_type": "code",
   "execution_count": null,
   "id": "81ad0529-c2f4-4c20-a978-5960d8f8da87",
   "metadata": {},
   "outputs": [],
   "source": []
  }
 ],
 "metadata": {
  "kernelspec": {
   "display_name": "Python 3 (ipykernel)",
   "language": "python",
   "name": "python3"
  },
  "language_info": {
   "codemirror_mode": {
    "name": "ipython",
    "version": 3
   },
   "file_extension": ".py",
   "mimetype": "text/x-python",
   "name": "python",
   "nbconvert_exporter": "python",
   "pygments_lexer": "ipython3",
   "version": "3.13.1"
  }
 },
 "nbformat": 4,
 "nbformat_minor": 5
}
