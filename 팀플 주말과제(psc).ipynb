{
 "cells": [
  {
   "cell_type": "code",
   "execution_count": null,
   "id": "5d8014cb-62da-4ad3-a7d0-d2a4b1fbb22d",
   "metadata": {},
   "outputs": [],
   "source": [
    "import requests as req\n",
    "\n",
    "url = \"http://kobis.or.kr/kobisopenapi/webservice/rest/boxoffice/searchDailyBoxOfficeList.json?key=psc135acbe34926ea179e5a366c0717de58fc1&targetDt=20250214&boxofficeType\"\n",
    "\n",
    "data = req.get(url).json()\n",
    "data1 = data['boxOfficeResult']['dailyBoxOfficeList']\n",
    "\n",
    "for n in data1:\n",
    "    print(n[\"rank\"],n[\"movieNm\"])\n",
    "    # data1 은 딕셔너리로 이루어 져있지만 홈페이지 영화 하나당 하나의 딕셔너리 값을 가지고 있기 때문에 for문으로\n",
    "    # 범위를 설정하면 data1값에있는 딕셔너리전체를 확인하고 가기 때문에 프린트로 변수값 지정하고 딕셔너리 키값을 \n",
    "    #입력하면 그 에 해당하는 영화 순위와 이름을 꺼내오게 된다.\n",
    "    "
   ]
  },
  {
   "cell_type": "code",
   "execution_count": null,
   "id": "3331139a-9e84-462f-80f4-77b1c01545b7",
   "metadata": {},
   "outputs": [],
   "source": [
    "\n"
   ]
  },
  {
   "cell_type": "code",
   "execution_count": null,
   "id": "b61b5bef-a2d5-4558-8414-c1e6a99e271e",
   "metadata": {},
   "outputs": [],
   "source": []
  },
  {
   "cell_type": "code",
   "execution_count": null,
   "id": "150db6df-9e2f-411d-aed5-b0ff9fe8812d",
   "metadata": {},
   "outputs": [],
   "source": []
  }
 ],
 "metadata": {
  "kernelspec": {
   "display_name": "Python 3 (ipykernel)",
   "language": "python",
   "name": "python3"
  },
  "language_info": {
   "codemirror_mode": {
    "name": "ipython",
    "version": 3
   },
   "file_extension": ".py",
   "mimetype": "text/x-python",
   "name": "python",
   "nbconvert_exporter": "python",
   "pygments_lexer": "ipython3",
   "version": "3.13.1"
  }
 },
 "nbformat": 4,
 "nbformat_minor": 5
}
