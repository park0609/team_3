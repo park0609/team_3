{
 "cells": [
  {
   "cell_type": "code",
   "execution_count": 1,
   "id": "b0a1bfab-28d5-4b09-9150-73ed5cf283f3",
   "metadata": {},
   "outputs": [],
   "source": [
    "#함수를 이용한 코드 psc\n",
    "def same_word(word):\n",
    "    word2 = list(word)\n",
    "    a = word2[0]\n",
    "    b = word2[-1]\n",
    "    if a == b:\n",
    "        return \"거꾸로 해도 같은 단어네요!\"\n",
    "    else:\n",
    "        return \"그냥 단어네요!\""
   ]
  },
  {
   "cell_type": "code",
   "execution_count": 5,
   "id": "024f59b2-8a8f-415f-96c8-9bdaea3c3072",
   "metadata": {},
   "outputs": [
    {
     "data": {
      "text/plain": [
       "'거꾸로 해도 같은 단어네요!'"
      ]
     },
     "execution_count": 5,
     "metadata": {},
     "output_type": "execute_result"
    }
   ],
   "source": [
    "same_word(\"우영우\")"
   ]
  },
  {
   "cell_type": "code",
   "execution_count": null,
   "id": "36a814c8-8164-4d5d-a84f-2525d63b32ab",
   "metadata": {},
   "outputs": [],
   "source": [
    "#함수를 이용한 코드 psc(수정)\n",
    "def same_word(word):\n",
    "    word2 = list(word)\n",
    "    a = word2[0]\n",
    "    b = word2[-1]\n",
    "    if a == b:\n",
    "        return \"거꾸로 해도 같은 단어네요!\"\n",
    "    else:\n",
    "        return \"그냥 단어네요!\""
   ]
  },
  {
   "cell_type": "code",
   "execution_count": null,
   "id": "7a3361c7-81ef-4d8f-98ed-0493eb952266",
   "metadata": {},
   "outputs": [],
   "source": [
    "# input을 이용한 코드\n",
    "word = input(\"단어를 작성해 주세요!\")\n",
    "word2 = list(word)\n",
    "a = word2[0]\n",
    "b = word2[-1]\n",
    "if a == b:\n",
    "    print(\"거꾸로 해도 같은 단어네요!\")\n",
    "else:\n",
    "    print(\"그냥 단어네요!\")"
   ]
  },
  {
   "cell_type": "code",
   "execution_count": 2,
   "id": "f4ad8866-fc85-44f0-963b-6fc2b56d7e21",
   "metadata": {},
   "outputs": [
    {
     "name": "stdin",
     "output_type": "stream",
     "text": [
      "단어를 입력하세요 이제제이\n"
     ]
    },
    {
     "data": {
      "text/plain": [
       "'이제제이는 거꾸로 해도 같은 단어가 아닙니다.'"
      ]
     },
     "execution_count": 2,
     "metadata": {},
     "output_type": "execute_result"
    }
   ],
   "source": [
    "def youngu():\n",
    "    text = input(\"단어를 입력하세요\")\n",
    "    if text[0] == text[2]:\n",
    "        return (f\"{text}는 거꾸로 해도 같은 단어입니다.\")\n",
    "    else:\n",
    "        return (f\"{text}는 거꾸로 해도 같은 단어가 아닙니다.\")\n",
    "youngu()"
   ]
  },
  {
   "cell_type": "code",
   "execution_count": null,
   "id": "b9310e06-2846-4762-b612-75f4c12b1eea",
   "metadata": {},
   "outputs": [],
   "source": [
    "def word():\n",
    "    c = []\n",
    "    d = []\n",
    "    word = input(\"입력해주세요!\")\n",
    "    while True:\n",
    "        word2 = list(word)\n",
    "        num = 0\n",
    "        num = num + 0\n",
    "        b = word2.index(num) + 1\n",
    "        if b == (b%2 == 0):\n",
    "            c.append(word[b])\n",
    "        else:\n",
    "            d.append(word[b])\n",
    "    return print(c),\\n,print(d)"
   ]
  },
  {
   "cell_type": "code",
   "execution_count": null,
   "id": "d94dce18-eccf-4968-b50a-76b6552de627",
   "metadata": {},
   "outputs": [],
   "source": [
    "c = []\n",
    "d = []\n",
    "word = input(\"입력해주세요!\")\n",
    "word2 = list(word)\n",
    "for n in range(word2.index(word2[-1]) + 1):\n",
    "    b = word2.index(word2[n]) + 1\n",
    "    if b == (b%2 == 0):\n",
    "        c.append(word[b])\n",
    "    else:\n",
    "        d.append(word[b])\n",
    "print(c)\n",
    "print(d)"
   ]
  },
  {
   "cell_type": "code",
   "execution_count": 45,
   "id": "59215d8a-c8dd-417a-9532-1548a1243455",
   "metadata": {},
   "outputs": [
    {
     "name": "stdin",
     "output_type": "stream",
     "text": [
      "입력해주세요! 가나다라\n"
     ]
    },
    {
     "name": "stdout",
     "output_type": "stream",
     "text": [
      "['가', '다']\n",
      "['나', '라']\n"
     ]
    }
   ],
   "source": [
    "c = []\n",
    "d = []\n",
    "word = input(\"입력해주세요!\")\n",
    "word2 = list(word)\n",
    "for n in range(word2.index(word2[-1])+1):\n",
    "    b = word2.index(word2[n])\n",
    "    if b%2 == 0:\n",
    "        c.append(word[b])\n",
    "    else:\n",
    "        d.append(word[b])\n",
    "print(c)\n",
    "print(d)"
   ]
  },
  {
   "cell_type": "code",
   "execution_count": 28,
   "id": "4f8ce519-1984-4287-aaba-3455a606c39d",
   "metadata": {},
   "outputs": [
    {
     "name": "stdout",
     "output_type": "stream",
     "text": [
      "짝수\n",
      "0\n",
      "2\n",
      "4\n",
      "6\n",
      "8\n",
      "10\n",
      "12\n",
      "14\n",
      "16\n",
      "18\n",
      "\n",
      "홀수\n",
      "1\n",
      "3\n",
      "5\n",
      "7\n",
      "9\n",
      "11\n",
      "13\n",
      "15\n",
      "17\n",
      "19\n"
     ]
    }
   ],
   "source": [
    "n = list(range(20))\n",
    "print(\"짝수\")\n",
    "for n in range(0,20,2) :\n",
    "    print(n)\n",
    "print()\n",
    "print(\"홀수\")\n",
    "for n in range(1,20,2) :\n",
    "    print(n)"
   ]
  },
  {
   "cell_type": "code",
   "execution_count": null,
   "id": "ce3353df-459f-46d3-83d1-27f75d33d4a5",
   "metadata": {},
   "outputs": [],
   "source": []
  }
 ],
 "metadata": {
  "kernelspec": {
   "display_name": "Python 3 (ipykernel)",
   "language": "python",
   "name": "python3"
  },
  "language_info": {
   "codemirror_mode": {
    "name": "ipython",
    "version": 3
   },
   "file_extension": ".py",
   "mimetype": "text/x-python",
   "name": "python",
   "nbconvert_exporter": "python",
   "pygments_lexer": "ipython3",
   "version": "3.13.1"
  }
 },
 "nbformat": 4,
 "nbformat_minor": 5
}
