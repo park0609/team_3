{
 "cells": [
  {
   "cell_type": "code",
   "execution_count": 1,
   "id": "246b4203-b86d-46fb-92e3-55cb61e6be7e",
   "metadata": {},
   "outputs": [
    {
     "name": "stdin",
     "output_type": "stream",
     "text": [
      "입력해주세요! 가나다라\n"
     ]
    },
    {
     "name": "stdout",
     "output_type": "stream",
     "text": [
      "['가', '다']\n",
      "['나', '라']\n"
     ]
    }
   ],
   "source": [
    "c = []\n",
    "d = []\n",
    "word = input(\"입력해주세요!\")\n",
    "word2 = list(word)\n",
    "for n in range(word2.index(word2[-1])+1):\n",
    "    b = word2.index(word2[n])\n",
    "    if b%2 == 0:\n",
    "        c.append(word[b])\n",
    "    else:\n",
    "        d.append(word[b])\n",
    "print(c)\n",
    "print(d)"
   ]
  },
  {
   "cell_type": "code",
   "execution_count": null,
   "id": "b6051cd1-16c3-4541-84ac-554e5f455adb",
   "metadata": {},
   "outputs": [],
   "source": []
  }
 ],
 "metadata": {
  "kernelspec": {
   "display_name": "Python 3 (ipykernel)",
   "language": "python",
   "name": "python3"
  },
  "language_info": {
   "codemirror_mode": {
    "name": "ipython",
    "version": 3
   },
   "file_extension": ".py",
   "mimetype": "text/x-python",
   "name": "python",
   "nbconvert_exporter": "python",
   "pygments_lexer": "ipython3",
   "version": "3.13.1"
  }
 },
 "nbformat": 4,
 "nbformat_minor": 5
}
