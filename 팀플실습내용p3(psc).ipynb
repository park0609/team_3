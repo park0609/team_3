{
 "cells": [
  {
   "cell_type": "code",
   "execution_count": 44,
   "id": "06501ade-d31a-4893-9a91-618d5626b2e2",
   "metadata": {},
   "outputs": [
    {
     "name": "stdin",
     "output_type": "stream",
     "text": [
      "문장을 입력해주세요! 저는 부산외국어대학교 학생입니다\n"
     ]
    },
    {
     "name": "stdout",
     "output_type": "stream",
     "text": [
      "가장 긴 단어는 부산외국어대학교 입니다\n",
      "[2, 8, 5]\n",
      "1\n"
     ]
    }
   ],
   "source": [
    "a = input(\"문장을 입력해주세요!\")\n",
    "e = a.replace(\".\",\"\")\n",
    "b = e.split()\n",
    "c = []\n",
    "for n in range(b.index(b[-1])+1):\n",
    "    d = len(b[n])\n",
    "    c.append(d)\n",
    "    f = c.index(max(c))\n",
    "    #if count(max(c)) > 1:\n",
    "        \n",
    "    #else:\n",
    "    g = b[f]\n",
    "print(f\"가장 긴 단어는 {g} 입니다\")\n",
    "print(c)\n",
    "print(f)"
   ]
  },
  {
   "cell_type": "code",
   "execution_count": null,
   "id": "c365143f-a8db-4bdf-8a12-f1de1bb8896c",
   "metadata": {},
   "outputs": [],
   "source": []
  },
  {
   "cell_type": "code",
   "execution_count": null,
   "id": "f58650f6-ee51-4cb8-8ab9-2ee3853160ec",
   "metadata": {},
   "outputs": [],
   "source": []
  }
 ],
 "metadata": {
  "kernelspec": {
   "display_name": "Python 3 (ipykernel)",
   "language": "python",
   "name": "python3"
  },
  "language_info": {
   "codemirror_mode": {
    "name": "ipython",
    "version": 3
   },
   "file_extension": ".py",
   "mimetype": "text/x-python",
   "name": "python",
   "nbconvert_exporter": "python",
   "pygments_lexer": "ipython3",
   "version": "3.13.1"
  }
 },
 "nbformat": 4,
 "nbformat_minor": 5
}
