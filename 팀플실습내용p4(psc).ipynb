{
 "cells": [
  {
   "cell_type": "code",
   "execution_count": 3,
   "id": "1203e255-4a06-4d36-97b8-0075c3f5a157",
   "metadata": {},
   "outputs": [],
   "source": [
    "def word():\n",
    "    positive_words = [\"좋아\",\"행복\",\"멋져\",\"최고\",\"사랑해\"]\n",
    "    negative_words = [\"싫어\",\"화나\",\"짜증\",\"별로\",\"나빠\"]\n",
    "    pos = set(positive_words)\n",
    "    neg = set(negative_words)\n",
    "    \n",
    "    text = input(\"단어를 입력해주세요\")\n",
    "    text2 = text.split()\n",
    "    text3 = set(text2)\n",
    "    if pos.intersection(text3):\n",
    "        return \"기분이 좋아보이네요\"\n",
    "    elif neg.intersection(text3):\n",
    "        return \"기분이 나빠보이네요\"\n",
    "    else:\n",
    "        return \"평범한 하루네요\""
   ]
  },
  {
   "cell_type": "code",
   "execution_count": 4,
   "id": "df3946e3-38a3-47bc-b17d-d466f0d838a5",
   "metadata": {},
   "outputs": [
    {
     "name": "stdout",
     "output_type": "stream",
     "text": [
      "좋\n"
     ]
    },
    {
     "name": "stdin",
     "output_type": "stream",
     "text": [
      "단어를 입력해주세요 기분이 좋아\n"
     ]
    },
    {
     "data": {
      "text/plain": [
       "'기분이 좋아보이네요'"
      ]
     },
     "execution_count": 4,
     "metadata": {},
     "output_type": "execute_result"
    }
   ],
   "source": [
    "word()"
   ]
  },
  {
   "cell_type": "code",
   "execution_count": 24,
   "id": "f7732001-a304-43d2-89a4-78f309ba22a4",
   "metadata": {},
   "outputs": [
    {
     "name": "stdin",
     "output_type": "stream",
     "text": [
      "단어를 입력해주세요 오늘은 너무 화가나\n"
     ]
    },
    {
     "data": {
      "text/plain": [
       "'기분이 나빠보이네요'"
      ]
     },
     "execution_count": 24,
     "metadata": {},
     "output_type": "execute_result"
    }
   ],
   "source": [
    "def word():\n",
    "    positive_words = [\"좋아\",\"행복\",\"멋져\",\"최고\",\"사랑해\"]\n",
    "    negative_words = [\"싫어\",\"화나\",\"짜증\",\"별로\",\"나빠\"]\n",
    "    pos = set(\"=\".join(\"\".join(positive_words)).split('='))\n",
    "    neg = set(\"=\".join(\"\".join(negative_words)).split('='))\n",
    "    text = input(\"단어를 입력해주세요\")\n",
    "    text2 = set(\"=\".join(\"\".join(text.split())).split(\"=\"))\n",
    "    if pos.intersection(text2):\n",
    "        return \"기분이 좋아보이네요\"\n",
    "    elif neg.intersection(text2):\n",
    "        return \"기분이 나빠보이네요\"\n",
    "    else:\n",
    "        return \"평범한 하루네요\"\n",
    "word()"
   ]
  },
  {
   "cell_type": "code",
   "execution_count": null,
   "id": "d6a1c89c-1d44-4541-90a3-27997aa02091",
   "metadata": {},
   "outputs": [],
   "source": []
  }
 ],
 "metadata": {
  "kernelspec": {
   "display_name": "Python 3 (ipykernel)",
   "language": "python",
   "name": "python3"
  },
  "language_info": {
   "codemirror_mode": {
    "name": "ipython",
    "version": 3
   },
   "file_extension": ".py",
   "mimetype": "text/x-python",
   "name": "python",
   "nbconvert_exporter": "python",
   "pygments_lexer": "ipython3",
   "version": "3.13.1"
  }
 },
 "nbformat": 4,
 "nbformat_minor": 5
}
