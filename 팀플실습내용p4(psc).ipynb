{
 "cells": [
  {
   "cell_type": "code",
   "execution_count": 3,
   "id": "1203e255-4a06-4d36-97b8-0075c3f5a157",
   "metadata": {},
   "outputs": [],
   "source": [
    "def word():\n",
    "    positive_words = [\"좋아\",\"행복\",\"멋져\",\"최고\",\"사랑해\"]\n",
    "    negative_words = [\"싫어\",\"화나\",\"짜증\",\"별로\",\"나빠\"]\n",
    "    pos = set(positive_words)\n",
    "    neg = set(negative_words)\n",
    "    \n",
    "    text = input(\"단어를 입력해주세요\")\n",
    "    text2 = text.split()\n",
    "    text3 = set(text2)\n",
    "    if pos.intersection(text3):\n",
    "        return \"기분이 좋아보이네요\"\n",
    "    elif neg.intersection(text3):\n",
    "        return \"기분이 나빠보이네요\"\n",
    "    else:\n",
    "        return \"평범한 하루네요\""
   ]
  },
  {
   "cell_type": "code",
   "execution_count": 4,
   "id": "df3946e3-38a3-47bc-b17d-d466f0d838a5",
   "metadata": {},
   "outputs": [
    {
     "name": "stdout",
     "output_type": "stream",
     "text": [
      "좋\n"
     ]
    },
    {
     "name": "stdin",
     "output_type": "stream",
     "text": [
      "단어를 입력해주세요 기분이 좋아\n"
     ]
    },
    {
     "data": {
      "text/plain": [
       "'기분이 좋아보이네요'"
      ]
     },
     "execution_count": 4,
     "metadata": {},
     "output_type": "execute_result"
    }
   ],
   "source": [
    "word()"
   ]
  },
  {
   "cell_type": "code",
   "execution_count": 24,
   "id": "f7732001-a304-43d2-89a4-78f309ba22a4",
   "metadata": {},
   "outputs": [
    {
     "name": "stdin",
     "output_type": "stream",
     "text": [
      "단어를 입력해주세요 오늘은 너무 화가나\n"
     ]
    },
    {
     "data": {
      "text/plain": [
       "'기분이 나빠보이네요'"
      ]
     },
     "execution_count": 24,
     "metadata": {},
     "output_type": "execute_result"
    }
   ],
   "source": [
    "def word():\n",
    "    positive_words = [\"좋아\",\"행복\",\"멋져\",\"최고\",\"사랑해\"]\n",
    "    negative_words = [\"싫어\",\"화나\",\"짜증\",\"별로\",\"나빠\"]\n",
    "    pos = set(\"=\".join(\"\".join(positive_words)).split('='))\n",
    "    neg = set(\"=\".join(\"\".join(negative_words)).split('='))\n",
    "    text = input(\"단어를 입력해주세요\")\n",
    "    text2 = set(\"=\".join(\"\".join(text.split())).split(\"=\"))\n",
    "    if pos.intersection(text2):\n",
    "        return \"기분이 좋아보이네요\"\n",
    "    elif neg.intersection(text2):\n",
    "        return \"기분이 나빠보이네요\"\n",
    "    else:\n",
    "        return \"평범한 하루네요\"\n",
    "word()"
   ]
  },
  {
   "cell_type": "code",
   "execution_count": 9,
   "id": "d6a1c89c-1d44-4541-90a3-27997aa02091",
   "metadata": {},
   "outputs": [
    {
     "name": "stdin",
     "output_type": "stream",
     "text": [
      "문장을 입력해 주세요 좋아 좋아요 싫어 싫어요 나빠\n"
     ]
    },
    {
     "name": "stdout",
     "output_type": "stream",
     "text": [
      "-2\n"
     ]
    }
   ],
   "source": [
    "positive_words = [\"좋아\",\"행복\",\"멋져\",\"최고\",\"사랑해\"]\n",
    "negative_words = [\"싫어\",\"화나\",\"짜증\",\"별로\",\"나빠\"]\n",
    "text = input(\"문장을 입력해 주세요\")\n",
    "\n",
    "#간단1\n",
    "#for v in positive_words:\n",
    "#    if v in text:\n",
    "#        print(\"기분이 좋아보이네요\")\n",
    "#for v in negative_words:\n",
    "#    if v in text:\n",
    "#        print(\"기분이 좋아보이네요\")\n",
    "\n",
    "#해설2\n",
    "#if any(word in text for word in positive_words):\n",
    "#    print(\"기분이 좋아보이네요\")\n",
    "#elif any(word in text for word in negative_words):\n",
    "#    print(\"기분이 나빠보이시네요\")\n",
    "#else:\n",
    "#    print(\"보통이시네요\")\n",
    "\n",
    "#해설3\n",
    "#pos = [v for v in positive_words if v in text]\n",
    "#print(pos,len(pos))\n",
    "#neg = [v for v in negative_words if v in text]\n",
    "#print(neg,len(neg))\n",
    "#if len(pos) > len(neg):\n",
    "#    print(\"기분이 좋아보이시네요\")\n",
    "#elif len(pos) < len(neg):\n",
    "#    print(\"기분이 나빠보이시네요\")\n",
    "#else:\n",
    "#    print(\"보통이시네요\")\n",
    "\n",
    "#해설4\n",
    "#pnum = 0\n",
    "#text = text.split(\" \")\n",
    "#for v in positive_words:\n",
    "#    for s in text:\n",
    "#        if v == 5:\n",
    "#            pnum += 1\n",
    "#for x in negative_words:\n",
    "#    for y in text:\n",
    "#        if x==y:\n",
    "#            pnum -= 1\n",
    "#print(pnum)\n"
   ]
  },
  {
   "cell_type": "code",
   "execution_count": 2,
   "id": "2a3cc979-2db9-4c30-b9ae-570a445c68e2",
   "metadata": {},
   "outputs": [
    {
     "name": "stdin",
     "output_type": "stream",
     "text": [
      "문장을 입력해 주세요 종아 좋아서 좋아요 사랑 사랑 하다 나쁘다 진짜 나쁘다\n"
     ]
    },
    {
     "name": "stdout",
     "output_type": "stream",
     "text": [
      "['종', '아', '좋다', '좋다', '사랑', '사랑', '하다', '나쁘다', '진짜', '나쁘다']\n"
     ]
    }
   ],
   "source": [
    "from konlpy.tag import Okt\n",
    "\n",
    "#한글 형태소 분석기\n",
    "okt = Okt()\n",
    "\n",
    "positive_words = [\"좋아\",\"행복\",\"멋져\",\"최고\",\"사랑해\"]\n",
    "negative_words = [\"싫어\",\"화나\",\"짜증\",\"별로\",\"나빠\"]\n",
    "text = input(\"문장을 입력해 주세요\")\n",
    "\n",
    "words = okt.morphs(text, stem=True)\n",
    "print(words)"
   ]
  },
  {
   "cell_type": "code",
   "execution_count": 3,
   "id": "022c4018-5d41-4402-9e93-501300adadbb",
   "metadata": {},
   "outputs": [
    {
     "name": "stderr",
     "output_type": "stream",
     "text": [
      "java version \"1.8.0_441\"\n",
      "Java(TM) SE Runtime Environment (build 1.8.0_441-b07)\n",
      "Java HotSpot(TM) 64-Bit Server VM (build 25.441-b07, mixed mode)\n"
     ]
    }
   ],
   "source": [
    "! java -version"
   ]
  },
  {
   "cell_type": "code",
   "execution_count": null,
   "id": "d9fd65ed-6e06-4b08-a44b-4b83b18f7318",
   "metadata": {},
   "outputs": [],
   "source": []
  }
 ],
 "metadata": {
  "kernelspec": {
   "display_name": "Python 3 (ipykernel)",
   "language": "python",
   "name": "python3"
  },
  "language_info": {
   "codemirror_mode": {
    "name": "ipython",
    "version": 3
   },
   "file_extension": ".py",
   "mimetype": "text/x-python",
   "name": "python",
   "nbconvert_exporter": "python",
   "pygments_lexer": "ipython3",
   "version": "3.13.1"
  }
 },
 "nbformat": 4,
 "nbformat_minor": 5
}
