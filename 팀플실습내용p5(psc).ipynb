{
 "cells": [
  {
   "cell_type": "code",
   "execution_count": 10,
   "id": "1cd00643-fa84-4d28-96c9-5044c3933d46",
   "metadata": {},
   "outputs": [
    {
     "name": "stdin",
     "output_type": "stream",
     "text": [
      " i'm so cold\n"
     ]
    },
    {
     "name": "stdout",
     "output_type": "stream",
     "text": [
      "I'm So Cold\n"
     ]
    }
   ],
   "source": [
    "text = input()\n",
    "a = text.replace(\".\",\"\")\n",
    "b = a.split()\n",
    "d = []\n",
    "h = []\n",
    "for n in range(0,len(b)):\n",
    "    f = b[n]\n",
    "    c = b[n][0:1]\n",
    "    d = c.upper()\n",
    "    e = f.replace(str(b[n][0]),d[0])\n",
    "    h.append(e)\n",
    "    g = \" \".join(h)\n",
    "print(g)"
   ]
  },
  {
   "cell_type": "code",
   "execution_count": null,
   "id": "19191267-ab56-4404-ab52-bf88374ee8da",
   "metadata": {},
   "outputs": [],
   "source": []
  },
  {
   "cell_type": "code",
   "execution_count": null,
   "id": "4a855afa-b814-4e66-ba7b-b9afba2fd079",
   "metadata": {},
   "outputs": [],
   "source": []
  }
 ],
 "metadata": {
  "kernelspec": {
   "display_name": "Python 3 (ipykernel)",
   "language": "python",
   "name": "python3"
  },
  "language_info": {
   "codemirror_mode": {
    "name": "ipython",
    "version": 3
   },
   "file_extension": ".py",
   "mimetype": "text/x-python",
   "name": "python",
   "nbconvert_exporter": "python",
   "pygments_lexer": "ipython3",
   "version": "3.13.1"
  }
 },
 "nbformat": 4,
 "nbformat_minor": 5
}
