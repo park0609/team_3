{
 "cells": [
  {
   "cell_type": "code",
   "execution_count": null,
   "id": "9e636f09-4ad6-4bf6-aab3-0b2986f1abdc",
   "metadata": {},
   "outputs": [],
   "source": [
    "for n in range(65,91):\n",
    "    print(f\"아스키코드 {n}번은 {chr(n)}입니다.\")"
   ]
  },
  {
   "cell_type": "code",
   "execution_count": null,
   "id": "f3b8602f-a369-4c1c-8362-c4fa86d7ce93",
   "metadata": {},
   "outputs": [],
   "source": [
    "for n in range(122,96,-1):\n",
    "    print(f\"아스키코드 {n}번은 {chr(n)}입니다.\")"
   ]
  },
  {
   "cell_type": "code",
   "execution_count": null,
   "id": "7a2e1159-5231-4bd7-950a-25ac1cc0a0eb",
   "metadata": {},
   "outputs": [],
   "source": [
    "A = []\n",
    "B = []\n",
    "C = []\n",
    "if len(A) < 10:\n",
    "    for n in range(1,11):\n",
    "        a = \"A\" + str(n)\n",
    "        A.append(a)\n",
    "        print(a)\n",
    "if len(B) < 10:\n",
    "    for n in range(1,11):\n",
    "        b = \"B\" + str(n)\n",
    "        B.append(b)\n",
    "        print(b)\n",
    "if len(C) < 10:\n",
    "    for n in range(1,11):\n",
    "        c = \"C\" + str(n)\n",
    "        C.append(c)\n",
    "        print(c)"
   ]
  },
  {
   "cell_type": "code",
   "execution_count": null,
   "id": "7a4965c5-e184-4525-91d6-c336bb445b42",
   "metadata": {},
   "outputs": [],
   "source": []
  },
  {
   "cell_type": "code",
   "execution_count": null,
   "id": "16c8bfda-f312-4df1-a367-463f62fdf5ed",
   "metadata": {},
   "outputs": [],
   "source": [
    "class Calculator:\n",
    "    def __init__(self):\n",
    "        self.result1 = 0\n",
    "        self.result2 = 1\n",
    "        \n",
    "    def mult(self,num):\n",
    "        self.result2 *= num\n",
    "        return self.result2\n",
    "\n",
    "    def add(self,num):\n",
    "        self.result1 += num\n",
    "        return self.result1 \n",
    "    \n",
    "    def div(self,num):\n",
    "        self.result2 /= num\n",
    "        return self.result2\n",
    "        \n",
    "    def sub(self,num):\n",
    "        self.result1 -= num\n",
    "        return self.result1\n"
   ]
  },
  {
   "cell_type": "code",
   "execution_count": null,
   "id": "7117c1bb-f39d-4426-85a7-d1e8fd480b86",
   "metadata": {},
   "outputs": [],
   "source": []
  },
  {
   "cell_type": "code",
   "execution_count": null,
   "id": "3e1237c8-10b8-4d7c-9873-c2ce8e50ea14",
   "metadata": {},
   "outputs": [],
   "source": []
  }
 ],
 "metadata": {
  "kernelspec": {
   "display_name": "Python 3 (ipykernel)",
   "language": "python",
   "name": "python3"
  },
  "language_info": {
   "codemirror_mode": {
    "name": "ipython",
    "version": 3
   },
   "file_extension": ".py",
   "mimetype": "text/x-python",
   "name": "python",
   "nbconvert_exporter": "python",
   "pygments_lexer": "ipython3",
   "version": "3.13.1"
  }
 },
 "nbformat": 4,
 "nbformat_minor": 5
}
