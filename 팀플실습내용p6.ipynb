{
 "cells": [
  {
   "cell_type": "code",
   "execution_count": null,
   "id": "9e636f09-4ad6-4bf6-aab3-0b2986f1abdc",
   "metadata": {},
   "outputs": [],
   "source": [
    "for n in range(65,91):\n",
    "    print(f\"아스키코드 {n}번은 {chr(n)}입니다.\")"
   ]
  },
  {
   "cell_type": "code",
   "execution_count": null,
   "id": "f3b8602f-a369-4c1c-8362-c4fa86d7ce93",
   "metadata": {},
   "outputs": [],
   "source": [
    "for n in range(122,96,-1):\n",
    "    print(f\"아스키코드 {n}번은 {chr(n)}입니다.\")"
   ]
  },
  {
   "cell_type": "code",
   "execution_count": null,
   "id": "7a2e1159-5231-4bd7-950a-25ac1cc0a0eb",
   "metadata": {},
   "outputs": [],
   "source": [
    "A = []\n",
    "B = []\n",
    "C = []\n",
    "if len(A) < 10:\n",
    "    for n in range(1,11):\n",
    "        a = \"A\" + str(n)\n",
    "        A.append(a)\n",
    "        print(a)\n",
    "if len(B) < 10:\n",
    "    for n in range(1,11):\n",
    "        b = \"B\" + str(n)\n",
    "        B.append(b)\n",
    "        print(b)\n",
    "if len(C) < 10:\n",
    "    for n in range(1,11):\n",
    "        c = \"C\" + str(n)\n",
    "        C.append(c)\n",
    "        print(c)"
   ]
  },
  {
   "cell_type": "code",
   "execution_count": 8,
   "id": "7dcef1f9-e349-490c-8c1a-403e1ff9dca3",
   "metadata": {},
   "outputs": [],
   "source": [
    "class Calculation:\n",
    "    def div(self,num):\n",
    "        self.result /= num\n",
    "        return self.result"
   ]
  },
  {
   "cell_type": "code",
   "execution_count": null,
   "id": "7a4965c5-e184-4525-91d6-c336bb445b42",
   "metadata": {},
   "outputs": [],
   "source": []
  },
  {
   "cell_type": "code",
   "execution_count": 10,
   "id": "8bf607a9-1f50-4d14-a303-d1f82c799e28",
   "metadata": {},
   "outputs": [
    {
     "ename": "SyntaxError",
     "evalue": "'expression' is an illegal expression for augmented assignment (2670394975.py, line 4)",
     "output_type": "error",
     "traceback": [
      "\u001b[1;36m  Cell \u001b[1;32mIn[10], line 4\u001b[1;36m\u001b[0m\n\u001b[1;33m    self.result + 1 *= num\u001b[0m\n\u001b[1;37m    ^\u001b[0m\n\u001b[1;31mSyntaxError\u001b[0m\u001b[1;31m:\u001b[0m 'expression' is an illegal expression for augmented assignment\n"
     ]
    }
   ],
   "source": [
    "def __init__(self):\n",
    "        self.result = 1\n",
    "def mult(self,num):\n",
    "        self.result *= num\n",
    "        return self.result"
   ]
  },
  {
   "cell_type": "code",
   "execution_count": 12,
   "id": "f07ab79c-ca17-4d19-9518-d52128ce2911",
   "metadata": {},
   "outputs": [
    {
     "ename": "TabError",
     "evalue": "inconsistent use of tabs and spaces in indentation (<string>, line 6)",
     "output_type": "error",
     "traceback": [
      "\u001b[1;36m  File \u001b[1;32m<string>:6\u001b[1;36m\u001b[0m\n\u001b[1;33m    return self.result\u001b[0m\n\u001b[1;37m                      ^\u001b[0m\n\u001b[1;31mTabError\u001b[0m\u001b[1;31m:\u001b[0m inconsistent use of tabs and spaces in indentation\n"
     ]
    }
   ],
   "source": [
    "class Calculator :\n",
    "    def __init__(self):\n",
    "        self.result = 0\n",
    "    def mult(self,num):\n",
    "        self.result *= num\n",
    "    \treturn self.result\n",
    "\n",
    "    def __init__(self,a,b):\n",
    "        self.a = a\n",
    "        self.b = b\n",
    "\n",
    "    def add(self):\n",
    "        return self.a +self.b\n",
    "\n",
    "    def __init__(self):\n",
    "        self.result = 1 \n",
    "    def div(self,num):\n",
    "        self.result /= num\n",
    "        return self.result"
   ]
  },
  {
   "cell_type": "code",
   "execution_count": null,
   "id": "16c8bfda-f312-4df1-a367-463f62fdf5ed",
   "metadata": {},
   "outputs": [],
   "source": []
  }
 ],
 "metadata": {
  "kernelspec": {
   "display_name": "Python 3 (ipykernel)",
   "language": "python",
   "name": "python3"
  },
  "language_info": {
   "codemirror_mode": {
    "name": "ipython",
    "version": 3
   },
   "file_extension": ".py",
   "mimetype": "text/x-python",
   "name": "python",
   "nbconvert_exporter": "python",
   "pygments_lexer": "ipython3",
   "version": "3.13.1"
  }
 },
 "nbformat": 4,
 "nbformat_minor": 5
}
