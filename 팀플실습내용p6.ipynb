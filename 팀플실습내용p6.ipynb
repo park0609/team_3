{
 "cells": [
  {
   "cell_type": "code",
   "execution_count": null,
   "id": "9e636f09-4ad6-4bf6-aab3-0b2986f1abdc",
   "metadata": {},
   "outputs": [],
   "source": [
    "for n in range(65,91):\n",
    "    print(f\"아스키코드 {n}번은 {chr(n)}입니다.\")"
   ]
  },
  {
   "cell_type": "code",
   "execution_count": null,
   "id": "f3b8602f-a369-4c1c-8362-c4fa86d7ce93",
   "metadata": {},
   "outputs": [],
   "source": [
    "for n in range(122,96,-1):\n",
    "    print(f\"아스키코드 {n}번은 {chr(n)}입니다.\")"
   ]
  },
  {
   "cell_type": "code",
   "execution_count": null,
   "id": "7a2e1159-5231-4bd7-950a-25ac1cc0a0eb",
   "metadata": {},
   "outputs": [],
   "source": [
    "A = []\n",
    "B = []\n",
    "C = []\n",
    "if len(A) < 10:\n",
    "    for n in range(1,11):\n",
    "        a = \"A\" + str(n)\n",
    "        A.append(a)\n",
    "        print(a)\n",
    "if len(B) < 10:\n",
    "    for n in range(1,11):\n",
    "        b = \"B\" + str(n)\n",
    "        B.append(b)\n",
    "        print(b)\n",
    "if len(C) < 10:\n",
    "    for n in range(1,11):\n",
    "        c = \"C\" + str(n)\n",
    "        C.append(c)\n",
    "        print(c)"
   ]
  },
  {
   "cell_type": "code",
   "execution_count": null,
   "id": "7dcef1f9-e349-490c-8c1a-403e1ff9dca3",
   "metadata": {},
   "outputs": [],
   "source": [
    " "
   ]
  }
 ],
 "metadata": {
  "kernelspec": {
   "display_name": "Python 3 (ipykernel)",
   "language": "python",
   "name": "python3"
  },
  "language_info": {
   "codemirror_mode": {
    "name": "ipython",
    "version": 3
   },
   "file_extension": ".py",
   "mimetype": "text/x-python",
   "name": "python",
   "nbconvert_exporter": "python",
   "pygments_lexer": "ipython3",
   "version": "3.13.1"
  }
 },
 "nbformat": 4,
 "nbformat_minor": 5
}
